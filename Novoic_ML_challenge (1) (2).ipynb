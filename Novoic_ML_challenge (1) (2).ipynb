{
 "cells": [
  {
   "cell_type": "markdown",
   "metadata": {
    "colab_type": "text",
    "id": "NOHLZHtggQtk"
   },
   "source": [
    "<a href=\"https://novoic.com\"><img src=\"https://novoic.com/wp-content/uploads/2019/10/logo_320px.png\" alt=\"Novoic logo\" width=\"160\"/></a>\n",
    "\n",
    "# Novoic ML challenge – text data"
   ]
  },
  {
   "cell_type": "markdown",
   "metadata": {
    "colab_type": "text",
    "id": "zlll6t_8M5fy"
   },
   "source": [
    "## Introduction\n",
    "Welcome to the Novoic ML challenge!\n",
    "\n",
    "This is an open-ended ML challenge to help us identify exceptional researchers and engineers. The guidance below describes an open-source dataset that you can use to demonstrate your research skills, creativity, coding ability, scientific communication or anything else you think is important to the role.\n",
    "\n",
    "Before starting the challenge, go ahead and read our CEO's [Medium post](https://medium.com/@emil_45669/the-doctor-is-ready-to-see-you-tube-videos-716b12367feb) on what we're looking for in our Research Scientists, Research Engineers and ML Interns. We recommend you spend around three hours on this (more or less if you wish), which you do not have to do in one go. Please make use of any resources you like.\n",
    "\n",
    "This is the text version of the challenge. Also available are audio and image versions. You can access all three from [this GitHub repo](https://github.com/novoic/ml-challenge).\n",
    "\n",
    "Best of luck – we're looking forward to seeing what you can do!"
   ]
  },
  {
   "cell_type": "markdown",
   "metadata": {
    "colab_type": "text",
    "id": "GUJZyzMB_2TA"
   },
   "source": [
    "## Prepare the data\n",
    "Copy the dataset to a local directory – this should take a few seconds."
   ]
  },
  {
   "cell_type": "code",
   "execution_count": 1,
   "metadata": {
    "colab": {
     "base_uri": "https://localhost:8080/",
     "height": 104
    },
    "colab_type": "code",
    "id": "AaRNBDz4nN1t",
    "outputId": "10466ef7-67e0-4887-d79d-c12692e8f30f"
   },
   "outputs": [
    {
     "name": "stdout",
     "output_type": "stream",
     "text": [
      "Copying gs://novoic-ml-challenge-text-data/LICENSE...\n",
      "Copying gs://novoic-ml-challenge-text-data/README.md...\n",
      "Copying gs://novoic-ml-challenge-text-data/data.txt...\n",
      "/ [3/3 files][468.7 KiB/468.7 KiB] 100% Done                                    \n",
      "Operation completed over 3 objects/468.7 KiB.                                    \n"
     ]
    }
   ],
   "source": [
    "!mkdir -p data\n",
    "!gsutil -m cp -r gs://novoic-ml-challenge-text-data/* ./data"
   ]
  },
  {
   "cell_type": "markdown",
   "metadata": {
    "colab_type": "text",
    "id": "BpJ7NOCXkCKs"
   },
   "source": [
    "## Data description\n",
    "\n",
    "The data comprises 5,574 SMS messages. Each message is labelled as either 'ham' (legitimate) or spam.\n",
    "\n",
    "Each line in `data.txt` corresponds to one message. The first word is the data label (either `ham` or `spam`), followed by a tab (`\\t`) character and then the message."
   ]
  },
  {
   "cell_type": "code",
   "execution_count": 0,
   "metadata": {
    "colab": {},
    "colab_type": "code",
    "id": "muZyXMc8rbAK"
   },
   "outputs": [],
   "source": [
    "with open('data/data.txt', 'r') as f:\n",
    "    msgs = f.read().splitlines()"
   ]
  },
  {
   "cell_type": "code",
   "execution_count": 3,
   "metadata": {
    "colab": {
     "base_uri": "https://localhost:8080/",
     "height": 72
    },
    "colab_type": "code",
    "id": "6Ey4KqN1uBqN",
    "outputId": "0491f26e-263a-4541-f9d8-b6fa87d73007"
   },
   "outputs": [
    {
     "name": "stdout",
     "output_type": "stream",
     "text": [
      "ham\tI'm gonna be home soon and i don't want to talk about this stuff anymore tonight, k? I've cried enough today.\n",
      "spam\tSIX chances to win CASH! From 100 to 20,000 pounds txt> CSH11 and send to 87575. Cost 150p/day, 6days, 16+ TsandCs apply Reply HL 4 info\n"
     ]
    }
   ],
   "source": [
    "print(msgs[10])\n",
    "print(msgs[11])"
   ]
  },
  {
   "cell_type": "markdown",
   "metadata": {
    "colab_type": "text",
    "id": "UeYkLol_rZoT"
   },
   "source": [
    "\n",
    "For more information about the dataset, see its `README.md`.\n",
    "\n",
    "Directory structure:\n",
    "```\n",
    "data/\n",
    "├── data.txt\n",
    "├── LICENSE\n",
    "└── README.md\n",
    "```\n",
    "\n",
    "\n",
    "\n",
    "\n"
   ]
  },
  {
   "cell_type": "markdown",
   "metadata": {
    "colab_type": "text",
    "id": "K7x5PwDaFDdy"
   },
   "source": [
    "## The challenge\n",
    "This is an open-ended challenge and we want to witness your creativity. Some suggestions:\n",
    "- Data exploration/visualization\n",
    "- Binary classification\n",
    "- Unsupervised clustering\n",
    "- Model explainability\n",
    "\n",
    "You're welcome to explore one or more of these topics, or do something entirely different.\n",
    "\n",
    "Create, iterate on, and validate your work in this notebook, using any packages of your choosing.\n",
    "\n",
    "**You can access a GPU via `Runtime -> Change runtime type` in the toolbar.**\n",
    "\n",
    "## Submission instructions\n",
    "Once you're done, send this `.ipynb` notebook (or a link to it hosted on Google Drive/GitHub with appropriate permissions) to talent@novoic.com, ensuring that outputs from cells (text, plots etc) are preserved.\n",
    "\n",
    "If you haven't applied already, make sure you submit an application first through our [job board](https://novoic.com/careers/)."
   ]
  },
  {
   "cell_type": "markdown",
   "metadata": {
    "colab_type": "text",
    "id": "VXJdZxNrK008"
   },
   "source": [
    "## Your submission\n",
    "The below sets up TensorFlow as an example but feel free to use any framework you like."
   ]
  },
  {
   "cell_type": "code",
   "execution_count": 0,
   "metadata": {
    "colab": {},
    "colab_type": "code",
    "id": "t7A3vYU3LRz_"
   },
   "outputs": [],
   "source": [
    "# The default TensorFlow version on Colab is 1.x. Uncomment the below to use TensorFlow 2.x instead.\n",
    "# %tensorflow_version 2.x"
   ]
  },
  {
   "cell_type": "code",
   "execution_count": 0,
   "metadata": {
    "colab": {},
    "colab_type": "code",
    "id": "h55CRj8umVsZ"
   },
   "outputs": [],
   "source": [
    "import pandas as pd\n",
    "import numpy as np\n",
    "#import category_encoders as ce\n",
    "import string\n",
    "import re\n",
    "import nltk\n",
    "from nltk.stem import PorterStemmer\n",
    "from nltk.stem import WordNetLemmatizer\n",
    "from sklearn.model_selection import train_test_split\n",
    "from sklearn.preprocessing import LabelEncoder\n",
    "from sklearn.metrics import confusion_matrix,f1_score, precision_score,recall_score\n",
    "from sklearn.feature_extraction.text import TfidfVectorizer\n",
    "from sklearn.cluster import KMeans\n",
    "from sklearn.decomposition import PCA"
   ]
  },
  {
   "cell_type": "code",
   "execution_count": 7,
   "metadata": {
    "colab": {
     "base_uri": "https://localhost:8080/",
     "height": 35
    },
    "colab_type": "code",
    "id": "d_-0bsdzK6sy",
    "outputId": "f642a8bd-899a-4b37-d3db-ef9e2b47827e"
   },
   "outputs": [
    {
     "data": {
      "text/plain": [
       "'1.15.0'"
      ]
     },
     "execution_count": 7,
     "metadata": {
      "tags": []
     },
     "output_type": "execute_result"
    }
   ],
   "source": [
    "import tensorflow as tf\n",
    "tf.__version__"
   ]
  },
  {
   "cell_type": "code",
   "execution_count": 0,
   "metadata": {
    "colab": {},
    "colab_type": "code",
    "id": "Y0sjBVrvlvb1"
   },
   "outputs": [],
   "source": [
    "list_msgs=[]\n",
    "for items in msgs:\n",
    "  item=items.split('\\t')\n",
    "  list_msgs.append(item)"
   ]
  },
  {
   "cell_type": "code",
   "execution_count": 0,
   "metadata": {
    "colab": {},
    "colab_type": "code",
    "id": "gDfT896WmA10"
   },
   "outputs": [],
   "source": [
    "Dataframe=pd.DataFrame(list_msgs)"
   ]
  },
  {
   "cell_type": "code",
   "execution_count": 0,
   "metadata": {
    "colab": {},
    "colab_type": "code",
    "id": "XKVC4o7LyYmw"
   },
   "outputs": [],
   "source": [
    "Dataframe=Dataframe.rename(columns={0:'Labels',1:'Message'})"
   ]
  },
  {
   "cell_type": "markdown",
   "metadata": {
    "colab_type": "text",
    "id": "KKTXuDpJmoKL"
   },
   "source": [
    "##Let us check whether the data is balanced or imbalanced\n",
    "\n",
    "\n",
    "---\n",
    "\n"
   ]
  },
  {
   "cell_type": "code",
   "execution_count": 11,
   "metadata": {
    "colab": {
     "base_uri": "https://localhost:8080/",
     "height": 415
    },
    "colab_type": "code",
    "id": "s39RB9hEmGyq",
    "outputId": "b1a67732-4520-4250-d331-504fe7988d22"
   },
   "outputs": [
    {
     "data": {
      "text/html": [
       "<div>\n",
       "<style scoped>\n",
       "    .dataframe tbody tr th:only-of-type {\n",
       "        vertical-align: middle;\n",
       "    }\n",
       "\n",
       "    .dataframe tbody tr th {\n",
       "        vertical-align: top;\n",
       "    }\n",
       "\n",
       "    .dataframe thead th {\n",
       "        text-align: right;\n",
       "    }\n",
       "</style>\n",
       "<table border=\"1\" class=\"dataframe\">\n",
       "  <thead>\n",
       "    <tr style=\"text-align: right;\">\n",
       "      <th></th>\n",
       "      <th>Labels</th>\n",
       "      <th>Message</th>\n",
       "    </tr>\n",
       "  </thead>\n",
       "  <tbody>\n",
       "    <tr>\n",
       "      <th>0</th>\n",
       "      <td>ham</td>\n",
       "      <td>Go until jurong point, crazy.. Available only ...</td>\n",
       "    </tr>\n",
       "    <tr>\n",
       "      <th>1</th>\n",
       "      <td>ham</td>\n",
       "      <td>Ok lar... Joking wif u oni...</td>\n",
       "    </tr>\n",
       "    <tr>\n",
       "      <th>2</th>\n",
       "      <td>spam</td>\n",
       "      <td>Free entry in 2 a wkly comp to win FA Cup fina...</td>\n",
       "    </tr>\n",
       "    <tr>\n",
       "      <th>3</th>\n",
       "      <td>ham</td>\n",
       "      <td>U dun say so early hor... U c already then say...</td>\n",
       "    </tr>\n",
       "    <tr>\n",
       "      <th>4</th>\n",
       "      <td>ham</td>\n",
       "      <td>Nah I don't think he goes to usf, he lives aro...</td>\n",
       "    </tr>\n",
       "    <tr>\n",
       "      <th>...</th>\n",
       "      <td>...</td>\n",
       "      <td>...</td>\n",
       "    </tr>\n",
       "    <tr>\n",
       "      <th>5569</th>\n",
       "      <td>spam</td>\n",
       "      <td>This is the 2nd time we have tried 2 contact u...</td>\n",
       "    </tr>\n",
       "    <tr>\n",
       "      <th>5570</th>\n",
       "      <td>ham</td>\n",
       "      <td>Will ü b going to esplanade fr home?</td>\n",
       "    </tr>\n",
       "    <tr>\n",
       "      <th>5571</th>\n",
       "      <td>ham</td>\n",
       "      <td>Pity, * was in mood for that. So...any other s...</td>\n",
       "    </tr>\n",
       "    <tr>\n",
       "      <th>5572</th>\n",
       "      <td>ham</td>\n",
       "      <td>The guy did some bitching but I acted like i'd...</td>\n",
       "    </tr>\n",
       "    <tr>\n",
       "      <th>5573</th>\n",
       "      <td>ham</td>\n",
       "      <td>Rofl. Its true to its name</td>\n",
       "    </tr>\n",
       "  </tbody>\n",
       "</table>\n",
       "<p>5574 rows × 2 columns</p>\n",
       "</div>"
      ],
      "text/plain": [
       "     Labels                                            Message\n",
       "0       ham  Go until jurong point, crazy.. Available only ...\n",
       "1       ham                      Ok lar... Joking wif u oni...\n",
       "2      spam  Free entry in 2 a wkly comp to win FA Cup fina...\n",
       "3       ham  U dun say so early hor... U c already then say...\n",
       "4       ham  Nah I don't think he goes to usf, he lives aro...\n",
       "...     ...                                                ...\n",
       "5569   spam  This is the 2nd time we have tried 2 contact u...\n",
       "5570    ham               Will ü b going to esplanade fr home?\n",
       "5571    ham  Pity, * was in mood for that. So...any other s...\n",
       "5572    ham  The guy did some bitching but I acted like i'd...\n",
       "5573    ham                         Rofl. Its true to its name\n",
       "\n",
       "[5574 rows x 2 columns]"
      ]
     },
     "execution_count": 11,
     "metadata": {
      "tags": []
     },
     "output_type": "execute_result"
    }
   ],
   "source": [
    "Dataframe"
   ]
  },
  {
   "cell_type": "code",
   "execution_count": 12,
   "metadata": {
    "colab": {
     "base_uri": "https://localhost:8080/",
     "height": 69
    },
    "colab_type": "code",
    "id": "sISbrCUXm1jX",
    "outputId": "35b8d738-df2d-4c36-e82a-7d3cea794914"
   },
   "outputs": [
    {
     "data": {
      "text/plain": [
       "ham     4827\n",
       "spam     747\n",
       "Name: Labels, dtype: int64"
      ]
     },
     "execution_count": 12,
     "metadata": {
      "tags": []
     },
     "output_type": "execute_result"
    }
   ],
   "source": [
    "Dataframe['Labels'].value_counts()"
   ]
  },
  {
   "cell_type": "markdown",
   "metadata": {
    "colab_type": "text",
    "id": "C8BpCOEitmPW"
   },
   "source": [
    "Since the data is imbalanced, stratified train test split is used"
   ]
  },
  {
   "cell_type": "code",
   "execution_count": 0,
   "metadata": {
    "colab": {},
    "colab_type": "code",
    "id": "GqOVKEdKsT8A"
   },
   "outputs": [],
   "source": [
    "X_train, X_test, y_train, y_test = train_test_split(Dataframe['Message'], Dataframe['Labels'], test_size=0.25, random_state=42, stratify=Dataframe['Labels'])"
   ]
  },
  {
   "cell_type": "code",
   "execution_count": 17,
   "metadata": {
    "colab": {
     "base_uri": "https://localhost:8080/",
     "height": 225
    },
    "colab_type": "code",
    "id": "1eDNxUM4Ev29",
    "outputId": "08bffea0-df77-4acd-8aa5-f806edd9ea9e"
   },
   "outputs": [
    {
     "data": {
      "text/plain": [
       "4925    We can go 4 e normal pilates after our intro...  \n",
       "2349                That seems unnecessarily affectionate\n",
       "1396    Thats cool! I am a gentleman and will treat yo...\n",
       "475     Nice line said by a broken heart- Plz don't cu...\n",
       "1473    Just sent you an email – to an address with in...\n",
       "                              ...                        \n",
       "3838                       Early bird! Any purchases yet?\n",
       "423                              Siva is in hostel aha:-.\n",
       "3824    Please protect yourself from e-threats. SIB ne...\n",
       "1836                         * Will be september by then!\n",
       "61       Ha ha ha good joke. Girls are situation seekers.\n",
       "Name: Message, Length: 4180, dtype: object"
      ]
     },
     "execution_count": 17,
     "metadata": {
      "tags": []
     },
     "output_type": "execute_result"
    }
   ],
   "source": [
    "X_train"
   ]
  },
  {
   "cell_type": "code",
   "execution_count": 18,
   "metadata": {
    "colab": {
     "base_uri": "https://localhost:8080/",
     "height": 69
    },
    "colab_type": "code",
    "id": "6ooN9C5Sstka",
    "outputId": "5a2f7a1c-d59f-4ee4-cf2a-5bf2946d0039"
   },
   "outputs": [
    {
     "data": {
      "text/plain": [
       "ham     3620\n",
       "spam     560\n",
       "Name: Labels, dtype: int64"
      ]
     },
     "execution_count": 18,
     "metadata": {
      "tags": []
     },
     "output_type": "execute_result"
    }
   ],
   "source": [
    "y_train.value_counts()"
   ]
  },
  {
   "cell_type": "code",
   "execution_count": 19,
   "metadata": {
    "colab": {
     "base_uri": "https://localhost:8080/",
     "height": 69
    },
    "colab_type": "code",
    "id": "Il9tswkis0rU",
    "outputId": "7c2a5ba1-9499-4930-bc17-5b9b9f75a95f"
   },
   "outputs": [
    {
     "data": {
      "text/plain": [
       "ham     1207\n",
       "spam     187\n",
       "Name: Labels, dtype: int64"
      ]
     },
     "execution_count": 19,
     "metadata": {
      "tags": []
     },
     "output_type": "execute_result"
    }
   ],
   "source": [
    "y_test.value_counts()"
   ]
  },
  {
   "cell_type": "code",
   "execution_count": 0,
   "metadata": {
    "colab": {},
    "colab_type": "code",
    "id": "swsLDIvOvKtJ"
   },
   "outputs": [],
   "source": [
    "X_train=pd.DataFrame(X_train)\n",
    "X_test=pd.DataFrame(X_test)"
   ]
  },
  {
   "cell_type": "code",
   "execution_count": 0,
   "metadata": {
    "colab": {},
    "colab_type": "code",
    "id": "q8cEUWbvCiao"
   },
   "outputs": [],
   "source": [
    "le = LabelEncoder()\n",
    "y_train= le.fit_transform(y_train)\n",
    "y_test= le.fit_transform(y_test)"
   ]
  },
  {
   "cell_type": "markdown",
   "metadata": {
    "colab_type": "text",
    "id": "szbrhzyGt-q1"
   },
   "source": [
    "From the above count, we could see that most of the data is ham, which is about 84.5% leaving only 15.4% of the data as spam therefore the data is imbalanced\n"
   ]
  },
  {
   "cell_type": "markdown",
   "metadata": {
    "colab_type": "text",
    "id": "56MSbYMz4jfR"
   },
   "source": [
    "##Data Preprocessing"
   ]
  },
  {
   "cell_type": "markdown",
   "metadata": {
    "colab_type": "text",
    "id": "4m_hz9975PMm"
   },
   "source": [
    "#Removing white spaces and lower case conversion"
   ]
  },
  {
   "cell_type": "code",
   "execution_count": 0,
   "metadata": {
    "colab": {},
    "colab_type": "code",
    "id": "Er3NgCTVkKs3"
   },
   "outputs": [],
   "source": [
    "X_train['Message']=X_train['Message'].str.lower()\n",
    "X_train['Message']=X_train['Message'].str.strip()\n",
    "X_test['Message']=X_test['Message'].str.lower()\n",
    "X_test['Message']=X_test['Message'].str.strip()"
   ]
  },
  {
   "cell_type": "code",
   "execution_count": 23,
   "metadata": {
    "colab": {
     "base_uri": "https://localhost:8080/",
     "height": 225
    },
    "colab_type": "code",
    "id": "HfdT5QC5k2U1",
    "outputId": "1f046e61-107a-4b8b-f886-5b03abf7f416"
   },
   "outputs": [
    {
     "data": {
      "text/plain": [
       "111              what is the plural of the noun research?\n",
       "4574    \"urgent! this is the 2nd attempt to contact u!...\n",
       "2325                                              ok lor.\n",
       "3635    its a big difference.  &lt;#&gt;  versus  &lt;...\n",
       "2412                          come to me right now, ahmad\n",
       "                              ...                        \n",
       "65      as a valued customer, i am pleased to advise y...\n",
       "1078                         yep, by the pretty sculpture\n",
       "1014    just buy a pizza. meat lovers or supreme. u ge...\n",
       "4827                        haha, just what i was thinkin\n",
       "1782                               ;-( oh well, c u later\n",
       "Name: Message, Length: 1394, dtype: object"
      ]
     },
     "execution_count": 23,
     "metadata": {
      "tags": []
     },
     "output_type": "execute_result"
    }
   ],
   "source": [
    "X_test['Message']"
   ]
  },
  {
   "cell_type": "markdown",
   "metadata": {
    "colab_type": "text",
    "id": "9nL9HgUo48hW"
   },
   "source": [
    "#Removing Punctuations"
   ]
  },
  {
   "cell_type": "code",
   "execution_count": 0,
   "metadata": {
    "colab": {},
    "colab_type": "code",
    "id": "xwDLnowTAwbM"
   },
   "outputs": [],
   "source": [
    "def remove_punctuation(text):\n",
    "    new_text=''.join([char for char in text if char not in string.punctuation])\n",
    "    return new_text"
   ]
  },
  {
   "cell_type": "code",
   "execution_count": 0,
   "metadata": {
    "colab": {},
    "colab_type": "code",
    "id": "zfRIXbzL7gU6"
   },
   "outputs": [],
   "source": [
    "list_messages=[]\n",
    "for messages in X_train['Message']:\n",
    "  removed_punctuation=remove_punctuation(messages)\n",
    "  list_messages.append(removed_punctuation)"
   ]
  },
  {
   "cell_type": "code",
   "execution_count": 0,
   "metadata": {
    "colab": {},
    "colab_type": "code",
    "id": "NrxFJX-cuBj5"
   },
   "outputs": [],
   "source": [
    "test_messages=[]\n",
    "for messages in X_test['Message']:\n",
    "  removed_punctuation=remove_punctuation(messages)\n",
    "  test_messages.append(removed_punctuation)"
   ]
  },
  {
   "cell_type": "code",
   "execution_count": 0,
   "metadata": {
    "colab": {},
    "colab_type": "code",
    "id": "oIuajGvI9aGI"
   },
   "outputs": [],
   "source": [
    "X_train['modi_message']=list_messages\n",
    "X_test['modi_message']=test_messages"
   ]
  },
  {
   "cell_type": "code",
   "execution_count": 28,
   "metadata": {
    "colab": {
     "base_uri": "https://localhost:8080/",
     "height": 415
    },
    "colab_type": "code",
    "id": "_DpUQ03VAJ2c",
    "outputId": "3e1ee27c-bbd1-4b78-d8b1-960975bf5dee"
   },
   "outputs": [
    {
     "data": {
      "text/html": [
       "<div>\n",
       "<style scoped>\n",
       "    .dataframe tbody tr th:only-of-type {\n",
       "        vertical-align: middle;\n",
       "    }\n",
       "\n",
       "    .dataframe tbody tr th {\n",
       "        vertical-align: top;\n",
       "    }\n",
       "\n",
       "    .dataframe thead th {\n",
       "        text-align: right;\n",
       "    }\n",
       "</style>\n",
       "<table border=\"1\" class=\"dataframe\">\n",
       "  <thead>\n",
       "    <tr style=\"text-align: right;\">\n",
       "      <th></th>\n",
       "      <th>Message</th>\n",
       "      <th>modi_message</th>\n",
       "    </tr>\n",
       "  </thead>\n",
       "  <tbody>\n",
       "    <tr>\n",
       "      <th>4925</th>\n",
       "      <td>we can go 4 e normal pilates after our intro...</td>\n",
       "      <td>we can go 4 e normal pilates after our intro</td>\n",
       "    </tr>\n",
       "    <tr>\n",
       "      <th>2349</th>\n",
       "      <td>that seems unnecessarily affectionate</td>\n",
       "      <td>that seems unnecessarily affectionate</td>\n",
       "    </tr>\n",
       "    <tr>\n",
       "      <th>1396</th>\n",
       "      <td>thats cool! i am a gentleman and will treat yo...</td>\n",
       "      <td>thats cool i am a gentleman and will treat you...</td>\n",
       "    </tr>\n",
       "    <tr>\n",
       "      <th>475</th>\n",
       "      <td>nice line said by a broken heart- plz don't cu...</td>\n",
       "      <td>nice line said by a broken heart plz dont cum ...</td>\n",
       "    </tr>\n",
       "    <tr>\n",
       "      <th>1473</th>\n",
       "      <td>just sent you an email – to an address with in...</td>\n",
       "      <td>just sent you an email – to an address with in...</td>\n",
       "    </tr>\n",
       "    <tr>\n",
       "      <th>...</th>\n",
       "      <td>...</td>\n",
       "      <td>...</td>\n",
       "    </tr>\n",
       "    <tr>\n",
       "      <th>3838</th>\n",
       "      <td>early bird! any purchases yet?</td>\n",
       "      <td>early bird any purchases yet</td>\n",
       "    </tr>\n",
       "    <tr>\n",
       "      <th>423</th>\n",
       "      <td>siva is in hostel aha:-.</td>\n",
       "      <td>siva is in hostel aha</td>\n",
       "    </tr>\n",
       "    <tr>\n",
       "      <th>3824</th>\n",
       "      <td>please protect yourself from e-threats. sib ne...</td>\n",
       "      <td>please protect yourself from ethreats sib neve...</td>\n",
       "    </tr>\n",
       "    <tr>\n",
       "      <th>1836</th>\n",
       "      <td>* will be september by then!</td>\n",
       "      <td>will be september by then</td>\n",
       "    </tr>\n",
       "    <tr>\n",
       "      <th>61</th>\n",
       "      <td>ha ha ha good joke. girls are situation seekers.</td>\n",
       "      <td>ha ha ha good joke girls are situation seekers</td>\n",
       "    </tr>\n",
       "  </tbody>\n",
       "</table>\n",
       "<p>4180 rows × 2 columns</p>\n",
       "</div>"
      ],
      "text/plain": [
       "                                                Message                                       modi_message\n",
       "4925    we can go 4 e normal pilates after our intro...       we can go 4 e normal pilates after our intro\n",
       "2349              that seems unnecessarily affectionate              that seems unnecessarily affectionate\n",
       "1396  thats cool! i am a gentleman and will treat yo...  thats cool i am a gentleman and will treat you...\n",
       "475   nice line said by a broken heart- plz don't cu...  nice line said by a broken heart plz dont cum ...\n",
       "1473  just sent you an email – to an address with in...  just sent you an email – to an address with in...\n",
       "...                                                 ...                                                ...\n",
       "3838                     early bird! any purchases yet?                       early bird any purchases yet\n",
       "423                            siva is in hostel aha:-.                              siva is in hostel aha\n",
       "3824  please protect yourself from e-threats. sib ne...  please protect yourself from ethreats sib neve...\n",
       "1836                       * will be september by then!                          will be september by then\n",
       "61     ha ha ha good joke. girls are situation seekers.     ha ha ha good joke girls are situation seekers\n",
       "\n",
       "[4180 rows x 2 columns]"
      ]
     },
     "execution_count": 28,
     "metadata": {
      "tags": []
     },
     "output_type": "execute_result"
    }
   ],
   "source": [
    "X_train"
   ]
  },
  {
   "cell_type": "markdown",
   "metadata": {
    "colab_type": "text",
    "id": "kg_IpCWeDteP"
   },
   "source": [
    "#Tokenizing messages\n"
   ]
  },
  {
   "cell_type": "code",
   "execution_count": 0,
   "metadata": {
    "colab": {},
    "colab_type": "code",
    "id": "iosU2xwGAOVw"
   },
   "outputs": [],
   "source": [
    "def tokenize(text):\n",
    "    tokens=re.split('\\W+',text)\n",
    "    return tokens "
   ]
  },
  {
   "cell_type": "code",
   "execution_count": 0,
   "metadata": {
    "colab": {},
    "colab_type": "code",
    "id": "lm_8jr90CDf1"
   },
   "outputs": [],
   "source": [
    "list_tokens=[]\n",
    "for message in X_train['modi_message']:\n",
    "  tokenized=tokenize(message)\n",
    "  list_tokens.append(tokenized)\n",
    "X_train['tokenized_msg']=list_tokens"
   ]
  },
  {
   "cell_type": "code",
   "execution_count": 0,
   "metadata": {
    "colab": {},
    "colab_type": "code",
    "id": "vng0NTJAwAQ3"
   },
   "outputs": [],
   "source": [
    "list_tokens=[]\n",
    "for message in X_test['modi_message']:\n",
    "  tokenized=tokenize(message)\n",
    "  list_tokens.append(tokenized)\n",
    "X_test['tokenized_msg']=list_tokens"
   ]
  },
  {
   "cell_type": "code",
   "execution_count": 32,
   "metadata": {
    "colab": {
     "base_uri": "https://localhost:8080/",
     "height": 537
    },
    "colab_type": "code",
    "id": "wfouZUHDDm14",
    "outputId": "45cbd717-f5a2-403e-c368-3e609ef2ecc3"
   },
   "outputs": [
    {
     "data": {
      "text/html": [
       "<div>\n",
       "<style scoped>\n",
       "    .dataframe tbody tr th:only-of-type {\n",
       "        vertical-align: middle;\n",
       "    }\n",
       "\n",
       "    .dataframe tbody tr th {\n",
       "        vertical-align: top;\n",
       "    }\n",
       "\n",
       "    .dataframe thead th {\n",
       "        text-align: right;\n",
       "    }\n",
       "</style>\n",
       "<table border=\"1\" class=\"dataframe\">\n",
       "  <thead>\n",
       "    <tr style=\"text-align: right;\">\n",
       "      <th></th>\n",
       "      <th>Message</th>\n",
       "      <th>modi_message</th>\n",
       "      <th>tokenized_msg</th>\n",
       "    </tr>\n",
       "  </thead>\n",
       "  <tbody>\n",
       "    <tr>\n",
       "      <th>4925</th>\n",
       "      <td>we can go 4 e normal pilates after our intro...</td>\n",
       "      <td>we can go 4 e normal pilates after our intro</td>\n",
       "      <td>[we, can, go, 4, e, normal, pilates, after, ou...</td>\n",
       "    </tr>\n",
       "    <tr>\n",
       "      <th>2349</th>\n",
       "      <td>that seems unnecessarily affectionate</td>\n",
       "      <td>that seems unnecessarily affectionate</td>\n",
       "      <td>[that, seems, unnecessarily, affectionate]</td>\n",
       "    </tr>\n",
       "    <tr>\n",
       "      <th>1396</th>\n",
       "      <td>thats cool! i am a gentleman and will treat yo...</td>\n",
       "      <td>thats cool i am a gentleman and will treat you...</td>\n",
       "      <td>[thats, cool, i, am, a, gentleman, and, will, ...</td>\n",
       "    </tr>\n",
       "    <tr>\n",
       "      <th>475</th>\n",
       "      <td>nice line said by a broken heart- plz don't cu...</td>\n",
       "      <td>nice line said by a broken heart plz dont cum ...</td>\n",
       "      <td>[nice, line, said, by, a, broken, heart, plz, ...</td>\n",
       "    </tr>\n",
       "    <tr>\n",
       "      <th>1473</th>\n",
       "      <td>just sent you an email – to an address with in...</td>\n",
       "      <td>just sent you an email – to an address with in...</td>\n",
       "      <td>[just, sent, you, an, email, to, an, address, ...</td>\n",
       "    </tr>\n",
       "    <tr>\n",
       "      <th>...</th>\n",
       "      <td>...</td>\n",
       "      <td>...</td>\n",
       "      <td>...</td>\n",
       "    </tr>\n",
       "    <tr>\n",
       "      <th>3838</th>\n",
       "      <td>early bird! any purchases yet?</td>\n",
       "      <td>early bird any purchases yet</td>\n",
       "      <td>[early, bird, any, purchases, yet]</td>\n",
       "    </tr>\n",
       "    <tr>\n",
       "      <th>423</th>\n",
       "      <td>siva is in hostel aha:-.</td>\n",
       "      <td>siva is in hostel aha</td>\n",
       "      <td>[siva, is, in, hostel, aha]</td>\n",
       "    </tr>\n",
       "    <tr>\n",
       "      <th>3824</th>\n",
       "      <td>please protect yourself from e-threats. sib ne...</td>\n",
       "      <td>please protect yourself from ethreats sib neve...</td>\n",
       "      <td>[please, protect, yourself, from, ethreats, si...</td>\n",
       "    </tr>\n",
       "    <tr>\n",
       "      <th>1836</th>\n",
       "      <td>* will be september by then!</td>\n",
       "      <td>will be september by then</td>\n",
       "      <td>[, will, be, september, by, then]</td>\n",
       "    </tr>\n",
       "    <tr>\n",
       "      <th>61</th>\n",
       "      <td>ha ha ha good joke. girls are situation seekers.</td>\n",
       "      <td>ha ha ha good joke girls are situation seekers</td>\n",
       "      <td>[ha, ha, ha, good, joke, girls, are, situation...</td>\n",
       "    </tr>\n",
       "  </tbody>\n",
       "</table>\n",
       "<p>4180 rows × 3 columns</p>\n",
       "</div>"
      ],
      "text/plain": [
       "                                                Message  ...                                      tokenized_msg\n",
       "4925    we can go 4 e normal pilates after our intro...  ...  [we, can, go, 4, e, normal, pilates, after, ou...\n",
       "2349              that seems unnecessarily affectionate  ...         [that, seems, unnecessarily, affectionate]\n",
       "1396  thats cool! i am a gentleman and will treat yo...  ...  [thats, cool, i, am, a, gentleman, and, will, ...\n",
       "475   nice line said by a broken heart- plz don't cu...  ...  [nice, line, said, by, a, broken, heart, plz, ...\n",
       "1473  just sent you an email – to an address with in...  ...  [just, sent, you, an, email, to, an, address, ...\n",
       "...                                                 ...  ...                                                ...\n",
       "3838                     early bird! any purchases yet?  ...                 [early, bird, any, purchases, yet]\n",
       "423                            siva is in hostel aha:-.  ...                        [siva, is, in, hostel, aha]\n",
       "3824  please protect yourself from e-threats. sib ne...  ...  [please, protect, yourself, from, ethreats, si...\n",
       "1836                       * will be september by then!  ...                  [, will, be, september, by, then]\n",
       "61     ha ha ha good joke. girls are situation seekers.  ...  [ha, ha, ha, good, joke, girls, are, situation...\n",
       "\n",
       "[4180 rows x 3 columns]"
      ]
     },
     "execution_count": 32,
     "metadata": {
      "tags": []
     },
     "output_type": "execute_result"
    }
   ],
   "source": [
    "X_train"
   ]
  },
  {
   "cell_type": "markdown",
   "metadata": {
    "colab_type": "text",
    "id": "EmCbJwt_EV8y"
   },
   "source": [
    "#REMOVING THE STOP WORDS"
   ]
  },
  {
   "cell_type": "code",
   "execution_count": 33,
   "metadata": {
    "colab": {
     "base_uri": "https://localhost:8080/",
     "height": 52
    },
    "colab_type": "code",
    "id": "G24ej7ovUjAX",
    "outputId": "5c45f3c8-7f05-4f69-8376-9deb3dd4d059"
   },
   "outputs": [
    {
     "name": "stdout",
     "output_type": "stream",
     "text": [
      "[nltk_data] Downloading package stopwords to /root/nltk_data...\n",
      "[nltk_data]   Package stopwords is already up-to-date!\n"
     ]
    }
   ],
   "source": [
    "nltk.download('stopwords')\n",
    "stopwords = nltk.corpus.stopwords.words('english')"
   ]
  },
  {
   "cell_type": "code",
   "execution_count": 34,
   "metadata": {
    "colab": {
     "base_uri": "https://localhost:8080/",
     "height": 35
    },
    "colab_type": "code",
    "id": "DfJW8mnyUkhD",
    "outputId": "3017908d-a922-4967-afa2-04584b0a711d"
   },
   "outputs": [
    {
     "data": {
      "text/plain": [
       "179"
      ]
     },
     "execution_count": 34,
     "metadata": {
      "tags": []
     },
     "output_type": "execute_result"
    }
   ],
   "source": [
    "len(stopwords)"
   ]
  },
  {
   "cell_type": "code",
   "execution_count": 0,
   "metadata": {
    "colab": {},
    "colab_type": "code",
    "id": "9QJYKTsWUnz7"
   },
   "outputs": [],
   "source": [
    "def removal_stopwords(messages,stopwords):\n",
    "  check_list=[]\n",
    "  for list_msgs in messages:\n",
    "    individual_msg=[]\n",
    "    for words in list_msgs:\n",
    "      if words not in stopwords:\n",
    "        individual_msg.append(words)\n",
    "    check_list.append(individual_msg)\n",
    "  return check_list"
   ]
  },
  {
   "cell_type": "code",
   "execution_count": 0,
   "metadata": {
    "colab": {},
    "colab_type": "code",
    "id": "Tx6uHhM-XHXd"
   },
   "outputs": [],
   "source": [
    "modi_msg=removal_stopwords(X_train['tokenized_msg'],stopwords)\n",
    "X_train['stopwords_removed']=modi_msg"
   ]
  },
  {
   "cell_type": "code",
   "execution_count": 0,
   "metadata": {
    "colab": {},
    "colab_type": "code",
    "id": "d14eCKb0wbTF"
   },
   "outputs": [],
   "source": [
    "modi_msg=removal_stopwords(X_test['tokenized_msg'],stopwords)\n",
    "X_test['stopwords_removed']=modi_msg"
   ]
  },
  {
   "cell_type": "markdown",
   "metadata": {
    "colab_type": "text",
    "id": "4m6ADFeeaPf2"
   },
   "source": [
    "#Removal of single digits"
   ]
  },
  {
   "cell_type": "code",
   "execution_count": 0,
   "metadata": {
    "colab": {},
    "colab_type": "code",
    "id": "oLyM9TfHYy-J"
   },
   "outputs": [],
   "source": [
    "def removal_singledigit(messages):\n",
    "  list_words=[]\n",
    "  for words in messages:\n",
    "        if len(words)>1:\n",
    "          list_words.append(words)\n",
    "  return list_words"
   ]
  },
  {
   "cell_type": "code",
   "execution_count": 0,
   "metadata": {
    "colab": {},
    "colab_type": "code",
    "id": "lSJLpF9bVcEa"
   },
   "outputs": [],
   "source": [
    "modified_msgs=[]\n",
    "for messages in X_train['stopwords_removed']:\n",
    "  words=[]\n",
    "  words.append(removal_singledigit(messages))\n",
    "  modified_msgs.append(words[0])\n",
    "X_train['singledig_removed']=modified_msgs"
   ]
  },
  {
   "cell_type": "code",
   "execution_count": 0,
   "metadata": {
    "colab": {},
    "colab_type": "code",
    "id": "8JIWkN8VYD7x"
   },
   "outputs": [],
   "source": [
    "modified_msgs=[]\n",
    "for messages in X_test['stopwords_removed']:\n",
    "  words=[]\n",
    "  words.append(removal_singledigit(messages))\n",
    "  modified_msgs.append(words[0])\n",
    "X_test['singledig_removed']=modified_msgs"
   ]
  },
  {
   "cell_type": "code",
   "execution_count": 41,
   "metadata": {
    "colab": {
     "base_uri": "https://localhost:8080/",
     "height": 710
    },
    "colab_type": "code",
    "id": "oMyXRpwyw5dz",
    "outputId": "8ce0a41b-d5a8-4353-9398-395abfd5f447"
   },
   "outputs": [
    {
     "data": {
      "text/html": [
       "<div>\n",
       "<style scoped>\n",
       "    .dataframe tbody tr th:only-of-type {\n",
       "        vertical-align: middle;\n",
       "    }\n",
       "\n",
       "    .dataframe tbody tr th {\n",
       "        vertical-align: top;\n",
       "    }\n",
       "\n",
       "    .dataframe thead th {\n",
       "        text-align: right;\n",
       "    }\n",
       "</style>\n",
       "<table border=\"1\" class=\"dataframe\">\n",
       "  <thead>\n",
       "    <tr style=\"text-align: right;\">\n",
       "      <th></th>\n",
       "      <th>Message</th>\n",
       "      <th>modi_message</th>\n",
       "      <th>tokenized_msg</th>\n",
       "      <th>stopwords_removed</th>\n",
       "      <th>singledig_removed</th>\n",
       "    </tr>\n",
       "  </thead>\n",
       "  <tbody>\n",
       "    <tr>\n",
       "      <th>4925</th>\n",
       "      <td>we can go 4 e normal pilates after our intro...</td>\n",
       "      <td>we can go 4 e normal pilates after our intro</td>\n",
       "      <td>[we, can, go, 4, e, normal, pilates, after, ou...</td>\n",
       "      <td>[go, 4, e, normal, pilates, intro]</td>\n",
       "      <td>[go, normal, pilates, intro]</td>\n",
       "    </tr>\n",
       "    <tr>\n",
       "      <th>2349</th>\n",
       "      <td>that seems unnecessarily affectionate</td>\n",
       "      <td>that seems unnecessarily affectionate</td>\n",
       "      <td>[that, seems, unnecessarily, affectionate]</td>\n",
       "      <td>[seems, unnecessarily, affectionate]</td>\n",
       "      <td>[seems, unnecessarily, affectionate]</td>\n",
       "    </tr>\n",
       "    <tr>\n",
       "      <th>1396</th>\n",
       "      <td>thats cool! i am a gentleman and will treat yo...</td>\n",
       "      <td>thats cool i am a gentleman and will treat you...</td>\n",
       "      <td>[thats, cool, i, am, a, gentleman, and, will, ...</td>\n",
       "      <td>[thats, cool, gentleman, treat, dignity, respect]</td>\n",
       "      <td>[thats, cool, gentleman, treat, dignity, respect]</td>\n",
       "    </tr>\n",
       "    <tr>\n",
       "      <th>475</th>\n",
       "      <td>nice line said by a broken heart- plz don't cu...</td>\n",
       "      <td>nice line said by a broken heart plz dont cum ...</td>\n",
       "      <td>[nice, line, said, by, a, broken, heart, plz, ...</td>\n",
       "      <td>[nice, line, said, broken, heart, plz, dont, c...</td>\n",
       "      <td>[nice, line, said, broken, heart, plz, dont, c...</td>\n",
       "    </tr>\n",
       "    <tr>\n",
       "      <th>1473</th>\n",
       "      <td>just sent you an email – to an address with in...</td>\n",
       "      <td>just sent you an email – to an address with in...</td>\n",
       "      <td>[just, sent, you, an, email, to, an, address, ...</td>\n",
       "      <td>[sent, email, address, incomm, right]</td>\n",
       "      <td>[sent, email, address, incomm, right]</td>\n",
       "    </tr>\n",
       "    <tr>\n",
       "      <th>...</th>\n",
       "      <td>...</td>\n",
       "      <td>...</td>\n",
       "      <td>...</td>\n",
       "      <td>...</td>\n",
       "      <td>...</td>\n",
       "    </tr>\n",
       "    <tr>\n",
       "      <th>3838</th>\n",
       "      <td>early bird! any purchases yet?</td>\n",
       "      <td>early bird any purchases yet</td>\n",
       "      <td>[early, bird, any, purchases, yet]</td>\n",
       "      <td>[early, bird, purchases, yet]</td>\n",
       "      <td>[early, bird, purchases, yet]</td>\n",
       "    </tr>\n",
       "    <tr>\n",
       "      <th>423</th>\n",
       "      <td>siva is in hostel aha:-.</td>\n",
       "      <td>siva is in hostel aha</td>\n",
       "      <td>[siva, is, in, hostel, aha]</td>\n",
       "      <td>[siva, hostel, aha]</td>\n",
       "      <td>[siva, hostel, aha]</td>\n",
       "    </tr>\n",
       "    <tr>\n",
       "      <th>3824</th>\n",
       "      <td>please protect yourself from e-threats. sib ne...</td>\n",
       "      <td>please protect yourself from ethreats sib neve...</td>\n",
       "      <td>[please, protect, yourself, from, ethreats, si...</td>\n",
       "      <td>[please, protect, ethreats, sib, never, asks, ...</td>\n",
       "      <td>[please, protect, ethreats, sib, never, asks, ...</td>\n",
       "    </tr>\n",
       "    <tr>\n",
       "      <th>1836</th>\n",
       "      <td>* will be september by then!</td>\n",
       "      <td>will be september by then</td>\n",
       "      <td>[, will, be, september, by, then]</td>\n",
       "      <td>[, september]</td>\n",
       "      <td>[september]</td>\n",
       "    </tr>\n",
       "    <tr>\n",
       "      <th>61</th>\n",
       "      <td>ha ha ha good joke. girls are situation seekers.</td>\n",
       "      <td>ha ha ha good joke girls are situation seekers</td>\n",
       "      <td>[ha, ha, ha, good, joke, girls, are, situation...</td>\n",
       "      <td>[ha, ha, ha, good, joke, girls, situation, see...</td>\n",
       "      <td>[ha, ha, ha, good, joke, girls, situation, see...</td>\n",
       "    </tr>\n",
       "  </tbody>\n",
       "</table>\n",
       "<p>4180 rows × 5 columns</p>\n",
       "</div>"
      ],
      "text/plain": [
       "                                                Message  ...                                  singledig_removed\n",
       "4925    we can go 4 e normal pilates after our intro...  ...                       [go, normal, pilates, intro]\n",
       "2349              that seems unnecessarily affectionate  ...               [seems, unnecessarily, affectionate]\n",
       "1396  thats cool! i am a gentleman and will treat yo...  ...  [thats, cool, gentleman, treat, dignity, respect]\n",
       "475   nice line said by a broken heart- plz don't cu...  ...  [nice, line, said, broken, heart, plz, dont, c...\n",
       "1473  just sent you an email – to an address with in...  ...              [sent, email, address, incomm, right]\n",
       "...                                                 ...  ...                                                ...\n",
       "3838                     early bird! any purchases yet?  ...                      [early, bird, purchases, yet]\n",
       "423                            siva is in hostel aha:-.  ...                                [siva, hostel, aha]\n",
       "3824  please protect yourself from e-threats. sib ne...  ...  [please, protect, ethreats, sib, never, asks, ...\n",
       "1836                       * will be september by then!  ...                                        [september]\n",
       "61     ha ha ha good joke. girls are situation seekers.  ...  [ha, ha, ha, good, joke, girls, situation, see...\n",
       "\n",
       "[4180 rows x 5 columns]"
      ]
     },
     "execution_count": 41,
     "metadata": {
      "tags": []
     },
     "output_type": "execute_result"
    }
   ],
   "source": [
    "X_train"
   ]
  },
  {
   "cell_type": "markdown",
   "metadata": {
    "colab_type": "text",
    "id": "IusRJX4KaWg_"
   },
   "source": [
    "#Word Stemming"
   ]
  },
  {
   "cell_type": "code",
   "execution_count": 0,
   "metadata": {
    "colab": {},
    "colab_type": "code",
    "id": "by_p2eDWOTRN"
   },
   "outputs": [],
   "source": [
    "ps = nltk.PorterStemmer()\n",
    "def stemming(tokenized_text):\n",
    "    stemmed_text=[ps.stem(word) for word in tokenized_text]\n",
    "    return stemmed_text"
   ]
  },
  {
   "cell_type": "markdown",
   "metadata": {
    "colab_type": "text",
    "id": "rvOe66k7am49"
   },
   "source": []
  },
  {
   "cell_type": "code",
   "execution_count": 0,
   "metadata": {
    "colab": {},
    "colab_type": "code",
    "id": "DCAqB_SQO-Z9"
   },
   "outputs": [],
   "source": [
    "X_train['stemmed_text']=X_train.singledig_removed.apply(lambda row : stemming(row))\n",
    "X_test['stemmed_text']=X_test.singledig_removed.apply(lambda row : stemming(row))"
   ]
  },
  {
   "cell_type": "code",
   "execution_count": 44,
   "metadata": {
    "colab": {
     "base_uri": "https://localhost:8080/",
     "height": 762
    },
    "colab_type": "code",
    "id": "VPCkgwLfRqUk",
    "outputId": "ac335c9b-838d-44f9-d03c-f65814f42778"
   },
   "outputs": [
    {
     "data": {
      "text/html": [
       "<div>\n",
       "<style scoped>\n",
       "    .dataframe tbody tr th:only-of-type {\n",
       "        vertical-align: middle;\n",
       "    }\n",
       "\n",
       "    .dataframe tbody tr th {\n",
       "        vertical-align: top;\n",
       "    }\n",
       "\n",
       "    .dataframe thead th {\n",
       "        text-align: right;\n",
       "    }\n",
       "</style>\n",
       "<table border=\"1\" class=\"dataframe\">\n",
       "  <thead>\n",
       "    <tr style=\"text-align: right;\">\n",
       "      <th></th>\n",
       "      <th>Message</th>\n",
       "      <th>modi_message</th>\n",
       "      <th>tokenized_msg</th>\n",
       "      <th>stopwords_removed</th>\n",
       "      <th>singledig_removed</th>\n",
       "      <th>stemmed_text</th>\n",
       "    </tr>\n",
       "  </thead>\n",
       "  <tbody>\n",
       "    <tr>\n",
       "      <th>4925</th>\n",
       "      <td>we can go 4 e normal pilates after our intro...</td>\n",
       "      <td>we can go 4 e normal pilates after our intro</td>\n",
       "      <td>[we, can, go, 4, e, normal, pilates, after, ou...</td>\n",
       "      <td>[go, 4, e, normal, pilates, intro]</td>\n",
       "      <td>[go, normal, pilates, intro]</td>\n",
       "      <td>[go, normal, pilat, intro]</td>\n",
       "    </tr>\n",
       "    <tr>\n",
       "      <th>2349</th>\n",
       "      <td>that seems unnecessarily affectionate</td>\n",
       "      <td>that seems unnecessarily affectionate</td>\n",
       "      <td>[that, seems, unnecessarily, affectionate]</td>\n",
       "      <td>[seems, unnecessarily, affectionate]</td>\n",
       "      <td>[seems, unnecessarily, affectionate]</td>\n",
       "      <td>[seem, unnecessarili, affection]</td>\n",
       "    </tr>\n",
       "    <tr>\n",
       "      <th>1396</th>\n",
       "      <td>thats cool! i am a gentleman and will treat yo...</td>\n",
       "      <td>thats cool i am a gentleman and will treat you...</td>\n",
       "      <td>[thats, cool, i, am, a, gentleman, and, will, ...</td>\n",
       "      <td>[thats, cool, gentleman, treat, dignity, respect]</td>\n",
       "      <td>[thats, cool, gentleman, treat, dignity, respect]</td>\n",
       "      <td>[that, cool, gentleman, treat, digniti, respect]</td>\n",
       "    </tr>\n",
       "    <tr>\n",
       "      <th>475</th>\n",
       "      <td>nice line said by a broken heart- plz don't cu...</td>\n",
       "      <td>nice line said by a broken heart plz dont cum ...</td>\n",
       "      <td>[nice, line, said, by, a, broken, heart, plz, ...</td>\n",
       "      <td>[nice, line, said, broken, heart, plz, dont, c...</td>\n",
       "      <td>[nice, line, said, broken, heart, plz, dont, c...</td>\n",
       "      <td>[nice, line, said, broken, heart, plz, dont, c...</td>\n",
       "    </tr>\n",
       "    <tr>\n",
       "      <th>1473</th>\n",
       "      <td>just sent you an email – to an address with in...</td>\n",
       "      <td>just sent you an email – to an address with in...</td>\n",
       "      <td>[just, sent, you, an, email, to, an, address, ...</td>\n",
       "      <td>[sent, email, address, incomm, right]</td>\n",
       "      <td>[sent, email, address, incomm, right]</td>\n",
       "      <td>[sent, email, address, incomm, right]</td>\n",
       "    </tr>\n",
       "    <tr>\n",
       "      <th>...</th>\n",
       "      <td>...</td>\n",
       "      <td>...</td>\n",
       "      <td>...</td>\n",
       "      <td>...</td>\n",
       "      <td>...</td>\n",
       "      <td>...</td>\n",
       "    </tr>\n",
       "    <tr>\n",
       "      <th>3838</th>\n",
       "      <td>early bird! any purchases yet?</td>\n",
       "      <td>early bird any purchases yet</td>\n",
       "      <td>[early, bird, any, purchases, yet]</td>\n",
       "      <td>[early, bird, purchases, yet]</td>\n",
       "      <td>[early, bird, purchases, yet]</td>\n",
       "      <td>[earli, bird, purchas, yet]</td>\n",
       "    </tr>\n",
       "    <tr>\n",
       "      <th>423</th>\n",
       "      <td>siva is in hostel aha:-.</td>\n",
       "      <td>siva is in hostel aha</td>\n",
       "      <td>[siva, is, in, hostel, aha]</td>\n",
       "      <td>[siva, hostel, aha]</td>\n",
       "      <td>[siva, hostel, aha]</td>\n",
       "      <td>[siva, hostel, aha]</td>\n",
       "    </tr>\n",
       "    <tr>\n",
       "      <th>3824</th>\n",
       "      <td>please protect yourself from e-threats. sib ne...</td>\n",
       "      <td>please protect yourself from ethreats sib neve...</td>\n",
       "      <td>[please, protect, yourself, from, ethreats, si...</td>\n",
       "      <td>[please, protect, ethreats, sib, never, asks, ...</td>\n",
       "      <td>[please, protect, ethreats, sib, never, asks, ...</td>\n",
       "      <td>[pleas, protect, ethreat, sib, never, ask, sen...</td>\n",
       "    </tr>\n",
       "    <tr>\n",
       "      <th>1836</th>\n",
       "      <td>* will be september by then!</td>\n",
       "      <td>will be september by then</td>\n",
       "      <td>[, will, be, september, by, then]</td>\n",
       "      <td>[, september]</td>\n",
       "      <td>[september]</td>\n",
       "      <td>[septemb]</td>\n",
       "    </tr>\n",
       "    <tr>\n",
       "      <th>61</th>\n",
       "      <td>ha ha ha good joke. girls are situation seekers.</td>\n",
       "      <td>ha ha ha good joke girls are situation seekers</td>\n",
       "      <td>[ha, ha, ha, good, joke, girls, are, situation...</td>\n",
       "      <td>[ha, ha, ha, good, joke, girls, situation, see...</td>\n",
       "      <td>[ha, ha, ha, good, joke, girls, situation, see...</td>\n",
       "      <td>[ha, ha, ha, good, joke, girl, situat, seeker]</td>\n",
       "    </tr>\n",
       "  </tbody>\n",
       "</table>\n",
       "<p>4180 rows × 6 columns</p>\n",
       "</div>"
      ],
      "text/plain": [
       "                                                Message  ...                                       stemmed_text\n",
       "4925    we can go 4 e normal pilates after our intro...  ...                         [go, normal, pilat, intro]\n",
       "2349              that seems unnecessarily affectionate  ...                   [seem, unnecessarili, affection]\n",
       "1396  thats cool! i am a gentleman and will treat yo...  ...   [that, cool, gentleman, treat, digniti, respect]\n",
       "475   nice line said by a broken heart- plz don't cu...  ...  [nice, line, said, broken, heart, plz, dont, c...\n",
       "1473  just sent you an email – to an address with in...  ...              [sent, email, address, incomm, right]\n",
       "...                                                 ...  ...                                                ...\n",
       "3838                     early bird! any purchases yet?  ...                        [earli, bird, purchas, yet]\n",
       "423                            siva is in hostel aha:-.  ...                                [siva, hostel, aha]\n",
       "3824  please protect yourself from e-threats. sib ne...  ...  [pleas, protect, ethreat, sib, never, ask, sen...\n",
       "1836                       * will be september by then!  ...                                          [septemb]\n",
       "61     ha ha ha good joke. girls are situation seekers.  ...     [ha, ha, ha, good, joke, girl, situat, seeker]\n",
       "\n",
       "[4180 rows x 6 columns]"
      ]
     },
     "execution_count": 44,
     "metadata": {
      "tags": []
     },
     "output_type": "execute_result"
    }
   ],
   "source": [
    "X_train"
   ]
  },
  {
   "cell_type": "markdown",
   "metadata": {
    "colab_type": "text",
    "id": "gDbCtdXFsy2s"
   },
   "source": [
    "#Word Lemmatizing"
   ]
  },
  {
   "cell_type": "code",
   "execution_count": 45,
   "metadata": {
    "colab": {
     "base_uri": "https://localhost:8080/",
     "height": 69
    },
    "colab_type": "code",
    "id": "ORiMSyobjiPJ",
    "outputId": "6f7d6b7c-9ea6-4bab-c117-c6962d38554b"
   },
   "outputs": [
    {
     "name": "stdout",
     "output_type": "stream",
     "text": [
      "[nltk_data] Downloading package wordnet to /root/nltk_data...\n",
      "[nltk_data]   Package wordnet is already up-to-date!\n"
     ]
    },
    {
     "data": {
      "text/plain": [
       "True"
      ]
     },
     "execution_count": 45,
     "metadata": {
      "tags": []
     },
     "output_type": "execute_result"
    }
   ],
   "source": [
    "import nltk\n",
    "nltk.download('wordnet')"
   ]
  },
  {
   "cell_type": "code",
   "execution_count": 0,
   "metadata": {
    "colab": {},
    "colab_type": "code",
    "id": "MWl5PEzQg8pc"
   },
   "outputs": [],
   "source": [
    "lemmatizer = WordNetLemmatizer()\n",
    "def word_lemmatizer(messages):\n",
    "    return [lemmatizer.lemmatize(words) for words in messages]"
   ]
  },
  {
   "cell_type": "code",
   "execution_count": 0,
   "metadata": {
    "colab": {},
    "colab_type": "code",
    "id": "sJCX5sMJBSAf"
   },
   "outputs": [],
   "source": [
    "modified_msgs=[]\n",
    "for messages in X_train['stemmed_text']:\n",
    "  lemmatized=word_lemmatizer(messages)\n",
    "  modified_msgs.append(lemmatized)\n",
    "X_train['Lemmatized_text']=modified_msgs"
   ]
  },
  {
   "cell_type": "code",
   "execution_count": 0,
   "metadata": {
    "colab": {},
    "colab_type": "code",
    "id": "DHidjblWzBDN"
   },
   "outputs": [],
   "source": [
    "modified_msgs=[]\n",
    "for messages in X_test['stemmed_text']:\n",
    "  lemmatized=word_lemmatizer(messages)\n",
    "  modified_msgs.append(lemmatized)\n",
    "X_test['Lemmatized_text']=modified_msgs"
   ]
  },
  {
   "cell_type": "code",
   "execution_count": 49,
   "metadata": {
    "colab": {
     "base_uri": "https://localhost:8080/",
     "height": 938
    },
    "colab_type": "code",
    "id": "9UYkspRpkzD4",
    "outputId": "d4acb448-87cd-40f6-fcf3-929d5af90528"
   },
   "outputs": [
    {
     "data": {
      "text/html": [
       "<div>\n",
       "<style scoped>\n",
       "    .dataframe tbody tr th:only-of-type {\n",
       "        vertical-align: middle;\n",
       "    }\n",
       "\n",
       "    .dataframe tbody tr th {\n",
       "        vertical-align: top;\n",
       "    }\n",
       "\n",
       "    .dataframe thead th {\n",
       "        text-align: right;\n",
       "    }\n",
       "</style>\n",
       "<table border=\"1\" class=\"dataframe\">\n",
       "  <thead>\n",
       "    <tr style=\"text-align: right;\">\n",
       "      <th></th>\n",
       "      <th>Message</th>\n",
       "      <th>modi_message</th>\n",
       "      <th>tokenized_msg</th>\n",
       "      <th>stopwords_removed</th>\n",
       "      <th>singledig_removed</th>\n",
       "      <th>stemmed_text</th>\n",
       "      <th>Lemmatized_text</th>\n",
       "    </tr>\n",
       "  </thead>\n",
       "  <tbody>\n",
       "    <tr>\n",
       "      <th>4925</th>\n",
       "      <td>we can go 4 e normal pilates after our intro...</td>\n",
       "      <td>we can go 4 e normal pilates after our intro</td>\n",
       "      <td>[we, can, go, 4, e, normal, pilates, after, ou...</td>\n",
       "      <td>[go, 4, e, normal, pilates, intro]</td>\n",
       "      <td>[go, normal, pilates, intro]</td>\n",
       "      <td>[go, normal, pilat, intro]</td>\n",
       "      <td>[go, normal, pilat, intro]</td>\n",
       "    </tr>\n",
       "    <tr>\n",
       "      <th>2349</th>\n",
       "      <td>that seems unnecessarily affectionate</td>\n",
       "      <td>that seems unnecessarily affectionate</td>\n",
       "      <td>[that, seems, unnecessarily, affectionate]</td>\n",
       "      <td>[seems, unnecessarily, affectionate]</td>\n",
       "      <td>[seems, unnecessarily, affectionate]</td>\n",
       "      <td>[seem, unnecessarili, affection]</td>\n",
       "      <td>[seem, unnecessarili, affection]</td>\n",
       "    </tr>\n",
       "    <tr>\n",
       "      <th>1396</th>\n",
       "      <td>thats cool! i am a gentleman and will treat yo...</td>\n",
       "      <td>thats cool i am a gentleman and will treat you...</td>\n",
       "      <td>[thats, cool, i, am, a, gentleman, and, will, ...</td>\n",
       "      <td>[thats, cool, gentleman, treat, dignity, respect]</td>\n",
       "      <td>[thats, cool, gentleman, treat, dignity, respect]</td>\n",
       "      <td>[that, cool, gentleman, treat, digniti, respect]</td>\n",
       "      <td>[that, cool, gentleman, treat, digniti, respect]</td>\n",
       "    </tr>\n",
       "    <tr>\n",
       "      <th>475</th>\n",
       "      <td>nice line said by a broken heart- plz don't cu...</td>\n",
       "      <td>nice line said by a broken heart plz dont cum ...</td>\n",
       "      <td>[nice, line, said, by, a, broken, heart, plz, ...</td>\n",
       "      <td>[nice, line, said, broken, heart, plz, dont, c...</td>\n",
       "      <td>[nice, line, said, broken, heart, plz, dont, c...</td>\n",
       "      <td>[nice, line, said, broken, heart, plz, dont, c...</td>\n",
       "      <td>[nice, line, said, broken, heart, plz, dont, c...</td>\n",
       "    </tr>\n",
       "    <tr>\n",
       "      <th>1473</th>\n",
       "      <td>just sent you an email – to an address with in...</td>\n",
       "      <td>just sent you an email – to an address with in...</td>\n",
       "      <td>[just, sent, you, an, email, to, an, address, ...</td>\n",
       "      <td>[sent, email, address, incomm, right]</td>\n",
       "      <td>[sent, email, address, incomm, right]</td>\n",
       "      <td>[sent, email, address, incomm, right]</td>\n",
       "      <td>[sent, email, address, incomm, right]</td>\n",
       "    </tr>\n",
       "    <tr>\n",
       "      <th>...</th>\n",
       "      <td>...</td>\n",
       "      <td>...</td>\n",
       "      <td>...</td>\n",
       "      <td>...</td>\n",
       "      <td>...</td>\n",
       "      <td>...</td>\n",
       "      <td>...</td>\n",
       "    </tr>\n",
       "    <tr>\n",
       "      <th>3838</th>\n",
       "      <td>early bird! any purchases yet?</td>\n",
       "      <td>early bird any purchases yet</td>\n",
       "      <td>[early, bird, any, purchases, yet]</td>\n",
       "      <td>[early, bird, purchases, yet]</td>\n",
       "      <td>[early, bird, purchases, yet]</td>\n",
       "      <td>[earli, bird, purchas, yet]</td>\n",
       "      <td>[earli, bird, purchas, yet]</td>\n",
       "    </tr>\n",
       "    <tr>\n",
       "      <th>423</th>\n",
       "      <td>siva is in hostel aha:-.</td>\n",
       "      <td>siva is in hostel aha</td>\n",
       "      <td>[siva, is, in, hostel, aha]</td>\n",
       "      <td>[siva, hostel, aha]</td>\n",
       "      <td>[siva, hostel, aha]</td>\n",
       "      <td>[siva, hostel, aha]</td>\n",
       "      <td>[siva, hostel, aha]</td>\n",
       "    </tr>\n",
       "    <tr>\n",
       "      <th>3824</th>\n",
       "      <td>please protect yourself from e-threats. sib ne...</td>\n",
       "      <td>please protect yourself from ethreats sib neve...</td>\n",
       "      <td>[please, protect, yourself, from, ethreats, si...</td>\n",
       "      <td>[please, protect, ethreats, sib, never, asks, ...</td>\n",
       "      <td>[please, protect, ethreats, sib, never, asks, ...</td>\n",
       "      <td>[pleas, protect, ethreat, sib, never, ask, sen...</td>\n",
       "      <td>[plea, protect, ethreat, sib, never, ask, sens...</td>\n",
       "    </tr>\n",
       "    <tr>\n",
       "      <th>1836</th>\n",
       "      <td>* will be september by then!</td>\n",
       "      <td>will be september by then</td>\n",
       "      <td>[, will, be, september, by, then]</td>\n",
       "      <td>[, september]</td>\n",
       "      <td>[september]</td>\n",
       "      <td>[septemb]</td>\n",
       "      <td>[septemb]</td>\n",
       "    </tr>\n",
       "    <tr>\n",
       "      <th>61</th>\n",
       "      <td>ha ha ha good joke. girls are situation seekers.</td>\n",
       "      <td>ha ha ha good joke girls are situation seekers</td>\n",
       "      <td>[ha, ha, ha, good, joke, girls, are, situation...</td>\n",
       "      <td>[ha, ha, ha, good, joke, girls, situation, see...</td>\n",
       "      <td>[ha, ha, ha, good, joke, girls, situation, see...</td>\n",
       "      <td>[ha, ha, ha, good, joke, girl, situat, seeker]</td>\n",
       "      <td>[ha, ha, ha, good, joke, girl, situat, seeker]</td>\n",
       "    </tr>\n",
       "  </tbody>\n",
       "</table>\n",
       "<p>4180 rows × 7 columns</p>\n",
       "</div>"
      ],
      "text/plain": [
       "                                                Message  ...                                    Lemmatized_text\n",
       "4925    we can go 4 e normal pilates after our intro...  ...                         [go, normal, pilat, intro]\n",
       "2349              that seems unnecessarily affectionate  ...                   [seem, unnecessarili, affection]\n",
       "1396  thats cool! i am a gentleman and will treat yo...  ...   [that, cool, gentleman, treat, digniti, respect]\n",
       "475   nice line said by a broken heart- plz don't cu...  ...  [nice, line, said, broken, heart, plz, dont, c...\n",
       "1473  just sent you an email – to an address with in...  ...              [sent, email, address, incomm, right]\n",
       "...                                                 ...  ...                                                ...\n",
       "3838                     early bird! any purchases yet?  ...                        [earli, bird, purchas, yet]\n",
       "423                            siva is in hostel aha:-.  ...                                [siva, hostel, aha]\n",
       "3824  please protect yourself from e-threats. sib ne...  ...  [plea, protect, ethreat, sib, never, ask, sens...\n",
       "1836                       * will be september by then!  ...                                          [septemb]\n",
       "61     ha ha ha good joke. girls are situation seekers.  ...     [ha, ha, ha, good, joke, girl, situat, seeker]\n",
       "\n",
       "[4180 rows x 7 columns]"
      ]
     },
     "execution_count": 49,
     "metadata": {
      "tags": []
     },
     "output_type": "execute_result"
    }
   ],
   "source": [
    "X_train"
   ]
  },
  {
   "cell_type": "markdown",
   "metadata": {
    "colab_type": "text",
    "id": "_u7suTdz39Mb"
   },
   "source": [
    "#Deep Learning"
   ]
  },
  {
   "cell_type": "code",
   "execution_count": 0,
   "metadata": {
    "colab": {},
    "colab_type": "code",
    "id": "kzRUy_6Wzv2Q"
   },
   "outputs": [],
   "source": [
    "from keras.layers import Dense, Input, LSTM, Embedding, Dropout, Activation, CuDNNGRU, Conv1D\n",
    "from keras.layers import Bidirectional, GlobalMaxPool1D\n",
    "from keras.models import Model\n",
    "from keras import initializers, regularizers, constraints, optimizers, layers\n",
    "from keras.preprocessing.text import Tokenizer\n",
    "from keras.preprocessing.sequence import pad_sequences"
   ]
  },
  {
   "cell_type": "code",
   "execution_count": 0,
   "metadata": {
    "colab": {},
    "colab_type": "code",
    "id": "xygY3LM834da"
   },
   "outputs": [],
   "source": [
    "embed_size = 100  # how big is each word vector\n",
    "max_feature = 50000 # how many unique words to use (i.e num rows in embedding vector)\n",
    "max_len = 2000"
   ]
  },
  {
   "cell_type": "code",
   "execution_count": 0,
   "metadata": {
    "colab": {},
    "colab_type": "code",
    "id": "Iq2lSCeZ3Z-N"
   },
   "outputs": [],
   "source": [
    "tokenizer = Tokenizer(num_words=max_feature)"
   ]
  },
  {
   "cell_type": "code",
   "execution_count": 0,
   "metadata": {
    "colab": {},
    "colab_type": "code",
    "id": "_ICHe8QB2YDd"
   },
   "outputs": [],
   "source": [
    "tokenizer.fit_on_texts(X_train['Lemmatized_text'])"
   ]
  },
  {
   "cell_type": "code",
   "execution_count": 0,
   "metadata": {
    "colab": {},
    "colab_type": "code",
    "id": "RyU_ulpF4qkY"
   },
   "outputs": [],
   "source": [
    "X_train_features = np.array(tokenizer.texts_to_sequences(X_train['Lemmatized_text']))"
   ]
  },
  {
   "cell_type": "code",
   "execution_count": 0,
   "metadata": {
    "colab": {},
    "colab_type": "code",
    "id": "rrVJbZDnyk6R"
   },
   "outputs": [],
   "source": [
    "X_test_features = np.array(tokenizer.texts_to_sequences(X_test['Lemmatized_text']))"
   ]
  },
  {
   "cell_type": "code",
   "execution_count": 0,
   "metadata": {
    "colab": {},
    "colab_type": "code",
    "id": "D7gdAwCH3R_-"
   },
   "outputs": [],
   "source": [
    "x_train_features = pad_sequences(X_train_features,maxlen=max_len)\n",
    "x_test_features = pad_sequences(X_test_features,maxlen=max_len)"
   ]
  },
  {
   "cell_type": "code",
   "execution_count": 75,
   "metadata": {
    "colab": {
     "base_uri": "https://localhost:8080/",
     "height": 416
    },
    "colab_type": "code",
    "id": "lHvKN2AxzYwo",
    "outputId": "6cb00604-a10f-4a6e-96de-7cf291b77719"
   },
   "outputs": [
    {
     "name": "stdout",
     "output_type": "stream",
     "text": [
      "Model: \"model_3\"\n",
      "_________________________________________________________________\n",
      "Layer (type)                 Output Shape              Param #   \n",
      "=================================================================\n",
      "input_3 (InputLayer)         (None, 2000)              0         \n",
      "_________________________________________________________________\n",
      "embedding_3 (Embedding)      (None, 2000, 100)         5000000   \n",
      "_________________________________________________________________\n",
      "bidirectional_3 (Bidirection (None, 2000, 128)         63744     \n",
      "_________________________________________________________________\n",
      "global_max_pooling1d_3 (Glob (None, 128)               0         \n",
      "_________________________________________________________________\n",
      "dense_5 (Dense)              (None, 16)                2064      \n",
      "_________________________________________________________________\n",
      "dropout_3 (Dropout)          (None, 16)                0         \n",
      "_________________________________________________________________\n",
      "dense_6 (Dense)              (None, 1)                 17        \n",
      "=================================================================\n",
      "Total params: 5,065,825\n",
      "Trainable params: 5,065,825\n",
      "Non-trainable params: 0\n",
      "_________________________________________________________________\n",
      "None\n"
     ]
    }
   ],
   "source": [
    "embed_size = 100\n",
    "inp = Input(shape=(max_len,))\n",
    "x = Embedding(max_feature, embed_size)(inp)\n",
    "x = Bidirectional(CuDNNGRU(64, return_sequences=True))(x)\n",
    "x = GlobalMaxPool1D()(x)\n",
    "x = Dense(16, activation=\"relu\")(x)\n",
    "x = Dropout(0.1)(x)\n",
    "x = Dense(1, activation=\"sigmoid\")(x)\n",
    "model = Model(inputs=inp, outputs=x)\n",
    "model.compile(loss='binary_crossentropy', optimizer='adam', metrics=['accuracy'])\n",
    "print(model.summary())"
   ]
  },
  {
   "cell_type": "code",
   "execution_count": 76,
   "metadata": {
    "colab": {
     "base_uri": "https://localhost:8080/",
     "height": 35
    },
    "colab_type": "code",
    "id": "zEVbzAw811Qo",
    "outputId": "0ca6cd48-f184-43ac-c86f-580e5b2124a1"
   },
   "outputs": [
    {
     "data": {
      "text/plain": [
       "(1394, 2000)"
      ]
     },
     "execution_count": 76,
     "metadata": {
      "tags": []
     },
     "output_type": "execute_result"
    }
   ],
   "source": [
    "x_test_features.shape"
   ]
  },
  {
   "cell_type": "code",
   "execution_count": 77,
   "metadata": {
    "colab": {
     "base_uri": "https://localhost:8080/",
     "height": 748
    },
    "colab_type": "code",
    "id": "r7KvUIo2zZyt",
    "outputId": "0892c19b-6ff6-443a-aeb1-49a9bb4f8df0"
   },
   "outputs": [
    {
     "name": "stdout",
     "output_type": "stream",
     "text": [
      "Train on 4180 samples, validate on 1394 samples\n",
      "Epoch 1/20\n",
      "4180/4180 [==============================] - 5s 1ms/step - loss: 0.6210 - acc: 0.8632 - val_loss: 0.5088 - val_acc: 0.8659\n",
      "Epoch 2/20\n",
      "4180/4180 [==============================] - 4s 898us/step - loss: 0.4366 - acc: 0.8660 - val_loss: 0.3773 - val_acc: 0.8659\n",
      "Epoch 3/20\n",
      "4180/4180 [==============================] - 4s 896us/step - loss: 0.3753 - acc: 0.8660 - val_loss: 0.3489 - val_acc: 0.8659\n",
      "Epoch 4/20\n",
      "4180/4180 [==============================] - 4s 896us/step - loss: 0.3327 - acc: 0.8660 - val_loss: 0.3043 - val_acc: 0.8659\n",
      "Epoch 5/20\n",
      "4180/4180 [==============================] - 4s 898us/step - loss: 0.2725 - acc: 0.8660 - val_loss: 0.2268 - val_acc: 0.8659\n",
      "Epoch 6/20\n",
      "4180/4180 [==============================] - 4s 893us/step - loss: 0.1900 - acc: 0.8818 - val_loss: 0.1566 - val_acc: 0.9455\n",
      "Epoch 7/20\n",
      "4180/4180 [==============================] - 4s 901us/step - loss: 0.1268 - acc: 0.9605 - val_loss: 0.1225 - val_acc: 0.9778\n",
      "Epoch 8/20\n",
      "4180/4180 [==============================] - 4s 898us/step - loss: 0.0943 - acc: 0.9775 - val_loss: 0.1010 - val_acc: 0.9821\n",
      "Epoch 9/20\n",
      "4180/4180 [==============================] - 4s 900us/step - loss: 0.0686 - acc: 0.9799 - val_loss: 0.0823 - val_acc: 0.9828\n",
      "Epoch 10/20\n",
      "4180/4180 [==============================] - 4s 896us/step - loss: 0.0463 - acc: 0.9835 - val_loss: 0.0618 - val_acc: 0.9885\n",
      "Epoch 11/20\n",
      "4180/4180 [==============================] - 4s 902us/step - loss: 0.0286 - acc: 0.9844 - val_loss: 0.0630 - val_acc: 0.9857\n",
      "Epoch 12/20\n",
      "4180/4180 [==============================] - 4s 903us/step - loss: 0.0223 - acc: 0.9818 - val_loss: 0.0524 - val_acc: 0.9900\n",
      "Epoch 13/20\n",
      "4180/4180 [==============================] - 4s 899us/step - loss: 0.0150 - acc: 0.9873 - val_loss: 0.0492 - val_acc: 0.9892\n",
      "Epoch 14/20\n",
      "4180/4180 [==============================] - 4s 895us/step - loss: 0.0132 - acc: 0.9871 - val_loss: 0.0561 - val_acc: 0.9878\n",
      "Epoch 15/20\n",
      "4180/4180 [==============================] - 4s 902us/step - loss: 0.0128 - acc: 0.9859 - val_loss: 0.0645 - val_acc: 0.9864\n",
      "Epoch 16/20\n",
      "4180/4180 [==============================] - 4s 905us/step - loss: 0.0097 - acc: 0.9892 - val_loss: 0.0591 - val_acc: 0.9885\n",
      "Epoch 17/20\n",
      "4180/4180 [==============================] - 4s 897us/step - loss: 0.0136 - acc: 0.9830 - val_loss: 0.0532 - val_acc: 0.9900\n",
      "Epoch 18/20\n",
      "4180/4180 [==============================] - 4s 895us/step - loss: 0.0103 - acc: 0.9873 - val_loss: 0.0579 - val_acc: 0.9885\n",
      "Epoch 19/20\n",
      "4180/4180 [==============================] - 4s 900us/step - loss: 0.0113 - acc: 0.9854 - val_loss: 0.0667 - val_acc: 0.9878\n",
      "Epoch 20/20\n",
      "4180/4180 [==============================] - 4s 899us/step - loss: 0.0088 - acc: 0.9998 - val_loss: 0.0618 - val_acc: 0.9885\n"
     ]
    }
   ],
   "source": [
    "history = model.fit(x_train_features, y_train, batch_size=512, epochs=20, validation_data=(x_test_features, y_test))"
   ]
  },
  {
   "cell_type": "code",
   "execution_count": 0,
   "metadata": {
    "colab": {},
    "colab_type": "code",
    "id": "dwQcFG0KOa-B"
   },
   "outputs": [],
   "source": [
    "y_predict  = [1 if o>0.5 else 0 for o in model.predict(x_test_features)]"
   ]
  },
  {
   "cell_type": "markdown",
   "metadata": {
    "colab_type": "text",
    "id": "8sk-SFmGtFFy"
   },
   "source": [
    "#Confusion Matrix"
   ]
  },
  {
   "cell_type": "code",
   "execution_count": 79,
   "metadata": {
    "colab": {
     "base_uri": "https://localhost:8080/",
     "height": 52
    },
    "colab_type": "code",
    "id": "RTQMY7xEwaAA",
    "outputId": "360edeff-9019-44dc-c4bf-559728ac917c"
   },
   "outputs": [
    {
     "data": {
      "text/plain": [
       "array([[1206,    1],\n",
       "       [  15,  172]])"
      ]
     },
     "execution_count": 79,
     "metadata": {
      "tags": []
     },
     "output_type": "execute_result"
    }
   ],
   "source": [
    "confusion_matrix(y_test,y_predict)"
   ]
  },
  {
   "cell_type": "markdown",
   "metadata": {
    "colab_type": "text",
    "id": "_aVD3s6ctI_j"
   },
   "source": [
    "#Precision-Recall"
   ]
  },
  {
   "cell_type": "code",
   "execution_count": 0,
   "metadata": {
    "colab": {},
    "colab_type": "code",
    "id": "iRXpXIBROxB4"
   },
   "outputs": [],
   "source": [
    "tn, fp, fn, tp = confusion_matrix(y_test,y_predict).ravel()"
   ]
  },
  {
   "cell_type": "code",
   "execution_count": 81,
   "metadata": {
    "colab": {
     "base_uri": "https://localhost:8080/",
     "height": 52
    },
    "colab_type": "code",
    "id": "TfpMnNPOO1Qq",
    "outputId": "359d2101-a46b-469f-c0ef-894bfeff43b2"
   },
   "outputs": [
    {
     "name": "stdout",
     "output_type": "stream",
     "text": [
      "Precision: 99.42%\n",
      "Recall: 91.98%\n"
     ]
    }
   ],
   "source": [
    "print(\"Precision: {:.2f}%\".format(100 * precision_score(y_test, y_predict)))\n",
    "print(\"Recall: {:.2f}%\".format(100 * recall_score(y_test, y_predict)))"
   ]
  },
  {
   "cell_type": "markdown",
   "metadata": {
    "colab_type": "text",
    "id": "9lut-OoWtLtM"
   },
   "source": [
    "#F1-Score"
   ]
  },
  {
   "cell_type": "code",
   "execution_count": 82,
   "metadata": {
    "colab": {
     "base_uri": "https://localhost:8080/",
     "height": 35
    },
    "colab_type": "code",
    "id": "R2TCO6mDO6Ik",
    "outputId": "bfacc570-17c4-4bb6-9ce3-87b744c852a3"
   },
   "outputs": [
    {
     "data": {
      "text/plain": [
       "0.9555555555555556"
      ]
     },
     "execution_count": 82,
     "metadata": {
      "tags": []
     },
     "output_type": "execute_result"
    }
   ],
   "source": [
    "f1_score(y_test,y_predict)"
   ]
  },
  {
   "cell_type": "code",
   "execution_count": 0,
   "metadata": {
    "colab": {},
    "colab_type": "code",
    "id": "WhqIGlQJPOTq"
   },
   "outputs": [],
   "source": [
    "import matplotlib.pyplot as plt\n",
    "from sklearn.metrics import confusion_matrix\n",
    "import itertools\n",
    "\n",
    "cnf_matrix = confusion_matrix(y_test,y_predict)\n",
    "\n",
    "def plot_confusion_matrix(cm, classes,\n",
    "                          normalize=False,\n",
    "                          title='Confusion matrix',\n",
    "                          cmap=plt.cm.Blues):\n",
    "    \"\"\"\n",
    "    This function prints and plots the confusion matrix.\n",
    "    Normalization can be applied by setting `normalize=True`.\n",
    "    \"\"\"\n",
    "    if normalize:\n",
    "        cm = cm.astype('float') / cm.sum(axis=1)[:, np.newaxis]\n",
    "        print(\"Normalized confusion matrix\")\n",
    "    else:\n",
    "        print('Confusion matrix, without normalization')\n",
    "\n",
    "    print(cm)\n",
    "\n",
    "    plt.imshow(cm, interpolation='nearest', cmap=cmap)\n",
    "    plt.title(title)\n",
    "    plt.colorbar()\n",
    "    tick_marks = np.arange(len(classes))\n",
    "    plt.xticks(tick_marks, classes, rotation=45)\n",
    "    plt.yticks(tick_marks, classes)\n",
    "\n",
    "    fmt = '.2f' if normalize else 'd'\n",
    "    thresh = cm.max() / 2\n",
    "    for i, j in itertools.product(range(cm.shape[0]), range(cm.shape[1])):\n",
    "        plt.text(j, i, format(cm[i, j], fmt),\n",
    "                 horizontalalignment=\"center\",\n",
    "                 color=\"white\" if cm[i, j] > thresh else \"black\")\n",
    "\n",
    "    plt.ylabel('True label')\n",
    "    plt.xlabel('Predicted label')\n",
    "    plt.tight_layout()"
   ]
  },
  {
   "cell_type": "code",
   "execution_count": 84,
   "metadata": {
    "colab": {
     "base_uri": "https://localhost:8080/",
     "height": 349
    },
    "colab_type": "code",
    "id": "fKgUrwz2PZTO",
    "outputId": "828163b6-6baa-4e53-a42b-3c7fa1f29a0d"
   },
   "outputs": [
    {
     "name": "stdout",
     "output_type": "stream",
     "text": [
      "Confusion matrix, without normalization\n",
      "[[1206    1]\n",
      " [  15  172]]\n"
     ]
    },
    {
     "data": {
      "image/png": "[encoded data removed]",
      "text/plain": [
       "<Figure size 432x288 with 2 Axes>"
      ]
     },
     "metadata": {
      "tags": []
     },
     "output_type": "display_data"
    }
   ],
   "source": [
    "plt.figure()\n",
    "plot_confusion_matrix(cnf_matrix, classes=['Non Spam','Spam'], normalize=False,\n",
    "                      title='Confusion matrix')"
   ]
  },
  {
   "cell_type": "code",
   "execution_count": 86,
   "metadata": {
    "colab": {
     "base_uri": "https://localhost:8080/",
     "height": 349
    },
    "colab_type": "code",
    "id": "s3RGNHcktRv0",
    "outputId": "70af02b0-f454-423a-aa2a-2a48e92341ee"
   },
   "outputs": [
    {
     "name": "stdout",
     "output_type": "stream",
     "text": [
      "Normalized confusion matrix\n",
      "[[9.99171500e-01 8.28500414e-04]\n",
      " [8.02139037e-02 9.19786096e-01]]\n"
     ]
    },
    {
     "data": {
      "image/png": "[encoded data removed]",
      "text/plain": [
       "<Figure size 432x288 with 2 Axes>"
      ]
     },
     "metadata": {
      "tags": []
     },
     "output_type": "display_data"
    }
   ],
   "source": [
    "plt.figure()\n",
    "plot_confusion_matrix(cnf_matrix, classes=['Non Spam','Spam'], normalize=True,\n",
    "                      title='Confusion matrix')"
   ]
  },
  {
   "cell_type": "markdown",
   "metadata": {
    "colab_type": "text",
    "id": "9ti6UTo9Wzfs"
   },
   "source": [
    "#UNSUPERVISED CLUSTERING"
   ]
  },
  {
   "cell_type": "code",
   "execution_count": 0,
   "metadata": {
    "colab": {},
    "colab_type": "code",
    "id": "U6FXZghhWyoa"
   },
   "outputs": [],
   "source": [
    "def get_final_text(stemmed_text):\n",
    "    final_text=\" \".join([word for word in stemmed_text])\n",
    "    return final_text"
   ]
  },
  {
   "cell_type": "code",
   "execution_count": 0,
   "metadata": {
    "colab": {},
    "colab_type": "code",
    "id": "PXsGtQfSW8MA"
   },
   "outputs": [],
   "source": [
    "X_train['final_text']=X_train.Lemmatized_text.apply(lambda row : get_final_text(row))\n",
    "X_test['final_text']=X_test.Lemmatized_text.apply(lambda row : get_final_text(row))"
   ]
  },
  {
   "cell_type": "markdown",
   "metadata": {
    "colab_type": "text",
    "id": "us2zhxDulQFk"
   },
   "source": []
  },
  {
   "cell_type": "code",
   "execution_count": 109,
   "metadata": {
    "colab": {
     "base_uri": "https://localhost:8080/",
     "height": 938
    },
    "colab_type": "code",
    "id": "9isUyctdXOXe",
    "outputId": "74a825a0-7905-46e1-ac50-4c3c1d2ea9f1"
   },
   "outputs": [
    {
     "data": {
      "text/html": [
       "<div>\n",
       "<style scoped>\n",
       "    .dataframe tbody tr th:only-of-type {\n",
       "        vertical-align: middle;\n",
       "    }\n",
       "\n",
       "    .dataframe tbody tr th {\n",
       "        vertical-align: top;\n",
       "    }\n",
       "\n",
       "    .dataframe thead th {\n",
       "        text-align: right;\n",
       "    }\n",
       "</style>\n",
       "<table border=\"1\" class=\"dataframe\">\n",
       "  <thead>\n",
       "    <tr style=\"text-align: right;\">\n",
       "      <th></th>\n",
       "      <th>Message</th>\n",
       "      <th>modi_message</th>\n",
       "      <th>tokenized_msg</th>\n",
       "      <th>stopwords_removed</th>\n",
       "      <th>singledig_removed</th>\n",
       "      <th>stemmed_text</th>\n",
       "      <th>Lemmatized_text</th>\n",
       "      <th>final_text</th>\n",
       "    </tr>\n",
       "  </thead>\n",
       "  <tbody>\n",
       "    <tr>\n",
       "      <th>4925</th>\n",
       "      <td>we can go 4 e normal pilates after our intro...</td>\n",
       "      <td>we can go 4 e normal pilates after our intro</td>\n",
       "      <td>[we, can, go, 4, e, normal, pilates, after, ou...</td>\n",
       "      <td>[go, 4, e, normal, pilates, intro]</td>\n",
       "      <td>[go, normal, pilates, intro]</td>\n",
       "      <td>[go, normal, pilat, intro]</td>\n",
       "      <td>[go, normal, pilat, intro]</td>\n",
       "      <td>go normal pilat intro</td>\n",
       "    </tr>\n",
       "    <tr>\n",
       "      <th>2349</th>\n",
       "      <td>that seems unnecessarily affectionate</td>\n",
       "      <td>that seems unnecessarily affectionate</td>\n",
       "      <td>[that, seems, unnecessarily, affectionate]</td>\n",
       "      <td>[seems, unnecessarily, affectionate]</td>\n",
       "      <td>[seems, unnecessarily, affectionate]</td>\n",
       "      <td>[seem, unnecessarili, affection]</td>\n",
       "      <td>[seem, unnecessarili, affection]</td>\n",
       "      <td>seem unnecessarili affection</td>\n",
       "    </tr>\n",
       "    <tr>\n",
       "      <th>1396</th>\n",
       "      <td>thats cool! i am a gentleman and will treat yo...</td>\n",
       "      <td>thats cool i am a gentleman and will treat you...</td>\n",
       "      <td>[thats, cool, i, am, a, gentleman, and, will, ...</td>\n",
       "      <td>[thats, cool, gentleman, treat, dignity, respect]</td>\n",
       "      <td>[thats, cool, gentleman, treat, dignity, respect]</td>\n",
       "      <td>[that, cool, gentleman, treat, digniti, respect]</td>\n",
       "      <td>[that, cool, gentleman, treat, digniti, respect]</td>\n",
       "      <td>that cool gentleman treat digniti respect</td>\n",
       "    </tr>\n",
       "    <tr>\n",
       "      <th>475</th>\n",
       "      <td>nice line said by a broken heart- plz don't cu...</td>\n",
       "      <td>nice line said by a broken heart plz dont cum ...</td>\n",
       "      <td>[nice, line, said, by, a, broken, heart, plz, ...</td>\n",
       "      <td>[nice, line, said, broken, heart, plz, dont, c...</td>\n",
       "      <td>[nice, line, said, broken, heart, plz, dont, c...</td>\n",
       "      <td>[nice, line, said, broken, heart, plz, dont, c...</td>\n",
       "      <td>[nice, line, said, broken, heart, plz, dont, c...</td>\n",
       "      <td>nice line said broken heart plz dont cum time ...</td>\n",
       "    </tr>\n",
       "    <tr>\n",
       "      <th>1473</th>\n",
       "      <td>just sent you an email – to an address with in...</td>\n",
       "      <td>just sent you an email – to an address with in...</td>\n",
       "      <td>[just, sent, you, an, email, to, an, address, ...</td>\n",
       "      <td>[sent, email, address, incomm, right]</td>\n",
       "      <td>[sent, email, address, incomm, right]</td>\n",
       "      <td>[sent, email, address, incomm, right]</td>\n",
       "      <td>[sent, email, address, incomm, right]</td>\n",
       "      <td>sent email address incomm right</td>\n",
       "    </tr>\n",
       "    <tr>\n",
       "      <th>...</th>\n",
       "      <td>...</td>\n",
       "      <td>...</td>\n",
       "      <td>...</td>\n",
       "      <td>...</td>\n",
       "      <td>...</td>\n",
       "      <td>...</td>\n",
       "      <td>...</td>\n",
       "      <td>...</td>\n",
       "    </tr>\n",
       "    <tr>\n",
       "      <th>3838</th>\n",
       "      <td>early bird! any purchases yet?</td>\n",
       "      <td>early bird any purchases yet</td>\n",
       "      <td>[early, bird, any, purchases, yet]</td>\n",
       "      <td>[early, bird, purchases, yet]</td>\n",
       "      <td>[early, bird, purchases, yet]</td>\n",
       "      <td>[earli, bird, purchas, yet]</td>\n",
       "      <td>[earli, bird, purchas, yet]</td>\n",
       "      <td>earli bird purchas yet</td>\n",
       "    </tr>\n",
       "    <tr>\n",
       "      <th>423</th>\n",
       "      <td>siva is in hostel aha:-.</td>\n",
       "      <td>siva is in hostel aha</td>\n",
       "      <td>[siva, is, in, hostel, aha]</td>\n",
       "      <td>[siva, hostel, aha]</td>\n",
       "      <td>[siva, hostel, aha]</td>\n",
       "      <td>[siva, hostel, aha]</td>\n",
       "      <td>[siva, hostel, aha]</td>\n",
       "      <td>siva hostel aha</td>\n",
       "    </tr>\n",
       "    <tr>\n",
       "      <th>3824</th>\n",
       "      <td>please protect yourself from e-threats. sib ne...</td>\n",
       "      <td>please protect yourself from ethreats sib neve...</td>\n",
       "      <td>[please, protect, yourself, from, ethreats, si...</td>\n",
       "      <td>[please, protect, ethreats, sib, never, asks, ...</td>\n",
       "      <td>[please, protect, ethreats, sib, never, asks, ...</td>\n",
       "      <td>[pleas, protect, ethreat, sib, never, ask, sen...</td>\n",
       "      <td>[plea, protect, ethreat, sib, never, ask, sens...</td>\n",
       "      <td>plea protect ethreat sib never ask sensit info...</td>\n",
       "    </tr>\n",
       "    <tr>\n",
       "      <th>1836</th>\n",
       "      <td>* will be september by then!</td>\n",
       "      <td>will be september by then</td>\n",
       "      <td>[, will, be, september, by, then]</td>\n",
       "      <td>[, september]</td>\n",
       "      <td>[september]</td>\n",
       "      <td>[septemb]</td>\n",
       "      <td>[septemb]</td>\n",
       "      <td>septemb</td>\n",
       "    </tr>\n",
       "    <tr>\n",
       "      <th>61</th>\n",
       "      <td>ha ha ha good joke. girls are situation seekers.</td>\n",
       "      <td>ha ha ha good joke girls are situation seekers</td>\n",
       "      <td>[ha, ha, ha, good, joke, girls, are, situation...</td>\n",
       "      <td>[ha, ha, ha, good, joke, girls, situation, see...</td>\n",
       "      <td>[ha, ha, ha, good, joke, girls, situation, see...</td>\n",
       "      <td>[ha, ha, ha, good, joke, girl, situat, seeker]</td>\n",
       "      <td>[ha, ha, ha, good, joke, girl, situat, seeker]</td>\n",
       "      <td>ha ha ha good joke girl situat seeker</td>\n",
       "    </tr>\n",
       "  </tbody>\n",
       "</table>\n",
       "<p>4180 rows × 8 columns</p>\n",
       "</div>"
      ],
      "text/plain": [
       "                                                Message  ...                                         final_text\n",
       "4925    we can go 4 e normal pilates after our intro...  ...                              go normal pilat intro\n",
       "2349              that seems unnecessarily affectionate  ...                       seem unnecessarili affection\n",
       "1396  thats cool! i am a gentleman and will treat yo...  ...          that cool gentleman treat digniti respect\n",
       "475   nice line said by a broken heart- plz don't cu...  ...  nice line said broken heart plz dont cum time ...\n",
       "1473  just sent you an email – to an address with in...  ...                    sent email address incomm right\n",
       "...                                                 ...  ...                                                ...\n",
       "3838                     early bird! any purchases yet?  ...                             earli bird purchas yet\n",
       "423                            siva is in hostel aha:-.  ...                                    siva hostel aha\n",
       "3824  please protect yourself from e-threats. sib ne...  ...  plea protect ethreat sib never ask sensit info...\n",
       "1836                       * will be september by then!  ...                                            septemb\n",
       "61     ha ha ha good joke. girls are situation seekers.  ...              ha ha ha good joke girl situat seeker\n",
       "\n",
       "[4180 rows x 8 columns]"
      ]
     },
     "execution_count": 109,
     "metadata": {
      "tags": []
     },
     "output_type": "execute_result"
    }
   ],
   "source": [
    "X_train"
   ]
  },
  {
   "cell_type": "markdown",
   "metadata": {
    "colab_type": "text",
    "id": "g9R64HTaqQB5"
   },
   "source": []
  },
  {
   "cell_type": "markdown",
   "metadata": {
    "colab_type": "text",
    "id": "hHnFmDJ5rYTy"
   },
   "source": [
    "#Text Analyzinf with TF-IDF"
   ]
  },
  {
   "cell_type": "code",
   "execution_count": 0,
   "metadata": {
    "colab": {},
    "colab_type": "code",
    "id": "wweaob1yRgYi"
   },
   "outputs": [],
   "source": [
    "vect = TfidfVectorizer(stop_words='english', max_df=0.50, min_df=2)\n",
    "X = vect.fit_transform(X_train['final_text'].append(X_test['final_text']))"
   ]
  },
  {
   "cell_type": "code",
   "execution_count": 111,
   "metadata": {
    "colab": {
     "base_uri": "https://localhost:8080/",
     "height": 268
    },
    "colab_type": "code",
    "id": "bZ6_oTZ_RxS4",
    "outputId": "39d361fc-ba97-451a-b485-3d4eb34a9108"
   },
   "outputs": [
    {
     "data": {
      "image/png": "[encoded data removed]",
      "text/plain": [
       "<Figure size 432x288 with 1 Axes>"
      ]
     },
     "metadata": {
      "tags": []
     },
     "output_type": "display_data"
    }
   ],
   "source": [
    "X_dense = X.todense()\n",
    "coords = PCA(n_components=2).fit_transform(X_dense)\n",
    "plt.scatter(coords[:, 0], coords[:, 1], c='m')\n",
    "plt.show()"
   ]
  },
  {
   "cell_type": "markdown",
   "metadata": {
    "colab_type": "text",
    "id": "PEnwGBqmr1Ww"
   },
   "source": [
    "#Top Keywords in the messages"
   ]
  },
  {
   "cell_type": "code",
   "execution_count": 0,
   "metadata": {
    "colab": {},
    "colab_type": "code",
    "id": "GLhXoP6lM3i7"
   },
   "outputs": [],
   "source": [
    "def top_tfidf_feats(row, features, top_n=20):\n",
    "    topn_ids = np.argsort(row)[::-1][:top_n]\n",
    "    top_feats = [(features[i], row[i]) for i in topn_ids]\n",
    "    df = pd.DataFrame(top_feats, columns=['features', 'score'])\n",
    "    return df\n",
    "def top_feats_in_doc(X, features, row_id, top_n=25):\n",
    "    row = np.squeeze(X[row_id].toarray())\n",
    "    return top_tfidf_feats(row, features, top_n)"
   ]
  },
  {
   "cell_type": "code",
   "execution_count": 0,
   "metadata": {
    "colab": {},
    "colab_type": "code",
    "id": "IEyv3MCD4ssU"
   },
   "outputs": [],
   "source": [
    "valu1=0\n",
    "valu0=0\n",
    "for numbers in labels:\n",
    "  if numbers==1:\n",
    "    valu1+=1\n",
    "  else:\n",
    "    valu0+=1"
   ]
  },
  {
   "cell_type": "code",
   "execution_count": 116,
   "metadata": {
    "colab": {
     "base_uri": "https://localhost:8080/",
     "height": 208
    },
    "colab_type": "code",
    "id": "BT3acNY7Xwd8",
    "outputId": "4be10a6f-cbc5-4b6f-9ac3-701796359825"
   },
   "outputs": [
    {
     "name": "stdout",
     "output_type": "stream",
     "text": [
      "  features     score\n",
      "0   return  0.514868\n",
      "1   period  0.306619\n",
      "2   yetund  0.306619\n",
      "3  januari  0.280826\n",
      "4      mid  0.272522\n",
      "5  surpris  0.252776\n",
      "6    money  0.209085\n",
      "7      end  0.203445\n",
      "8     year  0.198549\n",
      "9    didnt  0.195610\n"
     ]
    }
   ],
   "source": [
    "features = vect.get_feature_names()\n",
    "print(top_feats_in_doc(X, features, 6, 10))"
   ]
  },
  {
   "cell_type": "markdown",
   "metadata": {
    "colab_type": "text",
    "id": "fKGv7DD1r7WL"
   },
   "source": [
    "#Top words in all the messages"
   ]
  },
  {
   "cell_type": "code",
   "execution_count": 0,
   "metadata": {
    "colab": {},
    "colab_type": "code",
    "id": "NcmAuvptYWJg"
   },
   "outputs": [],
   "source": [
    "def top_mean_feats(X, features, grp_ids=None, min_tfidf=0.1, top_n=25):\n",
    "    if grp_ids:\n",
    "        D = X[grp_ids].toarray()\n",
    "    else:\n",
    "        D = X.toarray()\n",
    "\n",
    "    D[D < min_tfidf] = 0\n",
    "    tfidf_means = np.mean(D, axis=0)\n",
    "    return top_tfidf_feats(tfidf_means, features, top_n)"
   ]
  },
  {
   "cell_type": "code",
   "execution_count": 118,
   "metadata": {
    "colab": {
     "base_uri": "https://localhost:8080/",
     "height": 208
    },
    "colab_type": "code",
    "id": "bt7ueFEMZs9F",
    "outputId": "f5760702-296b-47a1-87c4-6893952f83cf"
   },
   "outputs": [
    {
     "name": "stdout",
     "output_type": "stream",
     "text": [
      "  features     score\n",
      "0       im  0.020115\n",
      "1       ok  0.019064\n",
      "2     come  0.015771\n",
      "3      ill  0.014245\n",
      "4       ur  0.013168\n",
      "5     ltgt  0.012627\n",
      "6     dont  0.012480\n",
      "7     know  0.012359\n",
      "8     time  0.012096\n",
      "9     good  0.011865\n"
     ]
    }
   ],
   "source": [
    "print(top_mean_feats(X, features, top_n=10))"
   ]
  },
  {
   "cell_type": "markdown",
   "metadata": {
    "colab_type": "text",
    "id": "iHiaJYWzsGnF"
   },
   "source": [
    "#K-Means Clustering"
   ]
  },
  {
   "cell_type": "code",
   "execution_count": 0,
   "metadata": {
    "colab": {},
    "colab_type": "code",
    "id": "BjclNyTiZ2cl"
   },
   "outputs": [],
   "source": [
    "n_clusters = 2\n",
    "clf = KMeans(n_clusters=n_clusters, max_iter=100, init='k-means++', n_init=1)\n",
    "labels = clf.fit_predict(X)"
   ]
  },
  {
   "cell_type": "markdown",
   "metadata": {
    "colab_type": "text",
    "id": "CfnyIPTVsPvq"
   },
   "source": [
    "#Top words in each cluster"
   ]
  },
  {
   "cell_type": "code",
   "execution_count": 0,
   "metadata": {
    "colab": {},
    "colab_type": "code",
    "id": "GkJ5bkNraA7e"
   },
   "outputs": [],
   "source": [
    "def top_feats_per_cluster(X, y, features, min_tfidf=0.1, top_n=25):\n",
    "    dfs = []\n",
    "    labels = np.unique(y)\n",
    "    for label in labels:\n",
    "        ids = np.where(y==label) \n",
    "        feats_df = top_mean_feats(X, features, ids,    min_tfidf=min_tfidf, top_n=top_n)\n",
    "        feats_df.label = label\n",
    "        dfs.append(feats_df)\n",
    "    return dfs"
   ]
  },
  {
   "cell_type": "code",
   "execution_count": 0,
   "metadata": {
    "colab": {},
    "colab_type": "code",
    "id": "0crXpZPFoFCJ"
   },
   "outputs": [],
   "source": [
    "def plot_tfidf_classfeats_h(dfs):\n",
    "    fig = plt.figure(figsize=(12, 9), facecolor=\"w\")\n",
    "    x = np.arange(len(dfs[0]))\n",
    "    for i, df in enumerate(dfs):\n",
    "        ax = fig.add_subplot(1, len(dfs), i+1)\n",
    "        ax.spines[\"top\"].set_visible(False)\n",
    "        ax.spines[\"right\"].set_visible(False)\n",
    "        ax.set_frame_on(False)\n",
    "        ax.get_xaxis().tick_bottom()\n",
    "        ax.get_yaxis().tick_left()\n",
    "        ax.set_xlabel(\"Tf-Idf Score\", labelpad=16, fontsize=14)\n",
    "        ax.set_title(\"cluster = \" + str(df.label), fontsize=16)\n",
    "        ax.ticklabel_format(axis='x', style='sci', scilimits=(-2,2))\n",
    "        ax.barh(x, df.score, align='center', color='#7530FF')\n",
    "        ax.set_yticks(x)\n",
    "        ax.set_ylim([-1, x[-1]+1])\n",
    "        yticks = ax.set_yticklabels(df.features)\n",
    "        plt.subplots_adjust(bottom=0.09, right=0.97, left=0.15, top=0.95, wspace=0.52)\n",
    "    plt.show()"
   ]
  },
  {
   "cell_type": "code",
   "execution_count": 0,
   "metadata": {
    "colab": {},
    "colab_type": "code",
    "id": "XJmKuU0tmrRx"
   },
   "outputs": [],
   "source": [
    "dfs=top_feats_per_cluster(X, np.append(y_train,y_test),features, 0.1,25)"
   ]
  },
  {
   "cell_type": "code",
   "execution_count": 123,
   "metadata": {
    "colab": {
     "base_uri": "https://localhost:8080/",
     "height": 653
    },
    "colab_type": "code",
    "id": "34cDKL71oPUU",
    "outputId": "5487e8ee-aeb8-4a11-b216-ffcdadccbd6e"
   },
   "outputs": [
    {
     "data": {
      "image/png": "[encoded data removed]",
      "text/plain": [
       "<Figure size 864x648 with 2 Axes>"
      ]
     },
     "metadata": {
      "tags": []
     },
     "output_type": "display_data"
    }
   ],
   "source": [
    "plot_tfidf_classfeats_h(dfs)"
   ]
  },
  {
   "cell_type": "markdown",
   "metadata": {
    "colab_type": "text",
    "id": "lfkclgMhpysx"
   },
   "source": [
    "Here the cluster 0 represents Ham\n",
    "and the cluster 1 represents spam. \n",
    "\n",
    "From the above figure we could see that spam messages mostly consists of words like prize, cash, free,claim,award etc.."
   ]
  },
  {
   "cell_type": "markdown",
   "metadata": {
    "colab_type": "text",
    "id": "oh6X6xGSsfsy"
   },
   "source": [
    "Then going further using this important spam keywords we can further group messages based on the keyword"
   ]
  },
  {
   "cell_type": "markdown",
   "metadata": {
    "colab_type": "text",
    "id": "YeIGRRZxthd4"
   },
   "source": [
    "Where as in the case of ham messages, the top words present are ok, im, home,come which are used in day-day activities"
   ]
  },
  {
   "cell_type": "code",
   "execution_count": 0,
   "metadata": {
    "colab": {},
    "colab_type": "code",
    "id": "VyZtXHoauiU5"
   },
   "outputs": [],
   "source": []
  }
 ],
 "metadata": {
  "accelerator": "GPU",
  "colab": {
   "collapsed_sections": [],
   "name": "Copy of Copy of Copy of Novoic ML challenge",
   "provenance": [],
   "toc_visible": true
  },
  "kernelspec": {
   "display_name": "Python 3",
   "language": "python",
   "name": "python3"
  },
  "language_info": {
   "codemirror_mode": {
    "name": "ipython",
    "version": 3
   },
   "file_extension": ".py",
   "mimetype": "text/x-python",
   "name": "python",
   "nbconvert_exporter": "python",
   "pygments_lexer": "ipython3",
   "version": "3.7.3"
  }
 },
 "nbformat": 4,
 "nbformat_minor": 1
}
